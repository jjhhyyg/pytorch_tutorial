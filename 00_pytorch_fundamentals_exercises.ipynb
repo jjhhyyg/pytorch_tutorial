{
 "nbformat": 4,
 "nbformat_minor": 0,
 "metadata": {
  "colab": {
   "name": "00_pytorch_fundamentals_exercises.ipynb",
   "provenance": [],
   "collapsed_sections": []
  },
  "kernelspec": {
   "name": "python3",
   "language": "python",
   "display_name": "Python 3 (ipykernel)"
  },
  "language_info": {
   "name": "python"
  },
  "accelerator": "GPU"
 },
 "cells": [
  {
   "cell_type": "markdown",
   "source": [
    "# 00. PyTorch Fundamentals Exercises\n",
    "\n",
    "### 1. Documentation reading \n",
    "\n",
    "A big part of deep learning (and learning to code in general) is getting familiar with the documentation of a certain framework you're using. We'll be using the PyTorch documentation a lot throughout the rest of this course. So I'd recommend spending 10-minutes reading the following (it's okay if you don't get some things for now, the focus is not yet full understanding, it's awareness):\n",
    "  * The documentation on [`torch.Tensor`](https://pytorch.org/docs/stable/tensors.html#torch-tensor).\n",
    "  * The documentation on [`torch.cuda`](https://pytorch.org/docs/master/notes/cuda.html#cuda-semantics).\n",
    "\n"
   ],
   "metadata": {
    "id": "AzDBM_v4iMe7"
   }
  },
  {
   "cell_type": "code",
   "source": [
    "# No code solution (reading)"
   ],
   "metadata": {
    "id": "bGD0oD8Kizak"
   },
   "execution_count": 1,
   "outputs": []
  },
  {
   "cell_type": "markdown",
   "source": [
    "### 2. Create a random tensor with shape `(7, 7)`.\n"
   ],
   "metadata": {
    "id": "__iXqqz-ioUJ"
   }
  },
  {
   "cell_type": "code",
   "source": [
    "# Import torch\n",
    "import torch\n",
    "\n",
    "# Create random tensor\n",
    "tensor_A = torch.rand(7, 7)\n",
    "tensor_A, tensor_A.shape"
   ],
   "metadata": {
    "id": "6pUq9Dc8i2L7",
    "ExecuteTime": {
     "end_time": "2023-10-26T04:01:12.279593800Z",
     "start_time": "2023-10-26T04:01:12.268184800Z"
    }
   },
   "execution_count": 3,
   "outputs": [
    {
     "data": {
      "text/plain": "(tensor([[0.6076, 0.5206, 0.1163, 0.7601, 0.5612, 0.1372, 0.1966],\n         [0.1903, 0.3862, 0.5009, 0.2085, 0.1391, 0.6782, 0.7168],\n         [0.6827, 0.4538, 0.7674, 0.4184, 0.8282, 0.1104, 0.9858],\n         [0.2808, 0.8104, 0.4382, 0.0245, 0.7087, 0.0680, 0.0138],\n         [0.8724, 0.1479, 0.8567, 0.2694, 0.3030, 0.3855, 0.9905],\n         [0.8551, 0.3558, 0.7175, 0.3364, 0.4432, 0.7947, 0.1346],\n         [0.2186, 0.4131, 0.0901, 0.5582, 0.7190, 0.4797, 0.8200]]),\n torch.Size([7, 7]))"
     },
     "execution_count": 3,
     "metadata": {},
     "output_type": "execute_result"
    }
   ]
  },
  {
   "cell_type": "markdown",
   "source": [
    "### 3. Perform a matrix multiplication on the tensor from 2 with another random tensor with shape `(1, 7)` (hint: you may have to transpose the second tensor)."
   ],
   "metadata": {
    "id": "9-XxvRLfiqkR"
   }
  },
  {
   "cell_type": "code",
   "source": [
    "# Create another random tensor\n",
    "tensor_B = torch.rand(1, 7)\n",
    "\n",
    "# Perform matrix multiplication \n",
    "torch.mm(tensor_A, tensor_B.T), torch.mm(tensor_A, tensor_B.T).shape"
   ],
   "metadata": {
    "id": "NcLqR0Sbi_vT",
    "ExecuteTime": {
     "end_time": "2023-10-26T04:03:45.980464900Z",
     "start_time": "2023-10-26T04:03:45.975028800Z"
    }
   },
   "execution_count": 12,
   "outputs": [
    {
     "data": {
      "text/plain": "(tensor([[1.4008],\n         [1.4749],\n         [2.1425],\n         [0.9708],\n         [1.9791],\n         [1.5929],\n         [1.5980]]),\n torch.Size([7, 1]))"
     },
     "execution_count": 12,
     "metadata": {},
     "output_type": "execute_result"
    }
   ]
  },
  {
   "cell_type": "markdown",
   "source": [
    "### 4. Set the random seed to `0` and do 2 & 3 over again.\n",
    "\n",
    "The output should be:\n",
    "```\n",
    "(tensor([[1.8542],\n",
    "         [1.9611],\n",
    "         [2.2884],\n",
    "         [3.0481],\n",
    "         [1.7067],\n",
    "         [2.5290],\n",
    "         [1.7989]]), torch.Size([7, 1]))\n",
    "```"
   ],
   "metadata": {
    "id": "eiutdKUFiryU"
   }
  },
  {
   "cell_type": "code",
   "source": [
    "# Set manual seed\n",
    "torch.manual_seed(0)\n",
    "\n",
    "# Create two random tensors\n",
    "tensor_C = torch.rand(7, 7)\n",
    "tensor_D = torch.rand(1, 7)\n",
    "\n",
    "# Matrix multiply tensors\n",
    "torch.mm(tensor_C, tensor_D.T), torch.mm(tensor_C, tensor_D.T).shape"
   ],
   "metadata": {
    "id": "D-lOWI_1jRMm",
    "ExecuteTime": {
     "end_time": "2023-10-26T04:04:14.432289100Z",
     "start_time": "2023-10-26T04:04:14.428988400Z"
    }
   },
   "execution_count": 16,
   "outputs": [
    {
     "data": {
      "text/plain": "(tensor([[1.8542],\n         [1.9611],\n         [2.2884],\n         [3.0481],\n         [1.7067],\n         [2.5290],\n         [1.7989]]),\n torch.Size([7, 1]))"
     },
     "execution_count": 16,
     "metadata": {},
     "output_type": "execute_result"
    }
   ]
  },
  {
   "cell_type": "markdown",
   "source": [
    "### 5. Speaking of random seeds, we saw how to set it with `torch.manual_seed()` but is there a GPU equivalent? (hint: you'll need to look into the documentation for `torch.cuda` for this one)\n",
    "  * If there is, set the GPU random seed to `1234`."
   ],
   "metadata": {
    "id": "ezY6ks9Cis37"
   }
  },
  {
   "cell_type": "code",
   "source": [
    "# Set random seed on the GPU\n",
    "torch.cuda.manual_seed_all(1234)"
   ],
   "metadata": {
    "id": "_LKWcfSTjp00",
    "ExecuteTime": {
     "end_time": "2023-10-26T04:19:58.497348300Z",
     "start_time": "2023-10-26T04:19:58.493071800Z"
    }
   },
   "execution_count": 33,
   "outputs": []
  },
  {
   "cell_type": "markdown",
   "source": [
    "\n",
    "### 6. Create two random tensors of shape `(2, 3)` and send them both to the GPU (you'll need access to a GPU for this). Set `torch.manual_seed(1234)` when creating the tensors (this doesn't have to be the GPU random seed). The output should be something like:\n",
    "\n",
    "```\n",
    "Device: cuda\n",
    "(tensor([[0.0290, 0.4019, 0.2598],\n",
    "         [0.3666, 0.0583, 0.7006]], device='cuda:0'),\n",
    " tensor([[0.0518, 0.4681, 0.6738],\n",
    "         [0.3315, 0.7837, 0.5631]], device='cuda:0'))\n",
    "```"
   ],
   "metadata": {
    "id": "Ir9qSaj6it4n"
   }
  },
  {
   "cell_type": "code",
   "source": [
    "# Set random seed\n",
    "torch.manual_seed(1234)\n",
    "\n",
    "# Check for access to GPU\n",
    "device = \"cuda\" if torch.cuda.is_available() else \"cpu\"\n",
    "print(f\"Device: {device}\")\n",
    "\n",
    "# Create two random tensors on GPU\n",
    "tensor_on_gpu_A = torch.rand((2, 3)).to(device)\n",
    "tensor_on_gpu_B = torch.rand((2, 3)).to(device)\n",
    "tensor_on_gpu_A, tensor_on_gpu_B"
   ],
   "metadata": {
    "id": "azXExiFZj5nm",
    "ExecuteTime": {
     "end_time": "2023-10-26T04:29:13.503790800Z",
     "start_time": "2023-10-26T04:29:13.478693900Z"
    }
   },
   "execution_count": 45,
   "outputs": [
    {
     "name": "stdout",
     "output_type": "stream",
     "text": [
      "Device: cuda\n"
     ]
    },
    {
     "data": {
      "text/plain": "(tensor([[0.0290, 0.4019, 0.2598],\n         [0.3666, 0.0583, 0.7006]], device='cuda:0'),\n tensor([[0.0518, 0.4681, 0.6738],\n         [0.3315, 0.7837, 0.5631]], device='cuda:0'))"
     },
     "execution_count": 45,
     "metadata": {},
     "output_type": "execute_result"
    }
   ]
  },
  {
   "cell_type": "markdown",
   "source": [
    "\n",
    "### 7. Perform a matrix multiplication on the tensors you created in 6 (again, you may have to adjust the shapes of one of the tensors).\n",
    "\n",
    "The output should look like:\n",
    "```\n",
    "(tensor([[0.3647, 0.4709],\n",
    "         [0.5184, 0.5617]], device='cuda:0'), torch.Size([2, 2]))\n",
    "```"
   ],
   "metadata": {
    "id": "5TlAxeiSiu1y"
   }
  },
  {
   "cell_type": "code",
   "source": [
    "# Perform matmul on tensor_A and tensor_B\n",
    "tensor_on_gpu_AB = torch.mm(tensor_on_gpu_A, tensor_on_gpu_B.T)\n",
    "tensor_on_gpu_AB"
   ],
   "metadata": {
    "id": "fAeG7ox0lHEO",
    "ExecuteTime": {
     "end_time": "2023-10-26T04:29:36.826002900Z",
     "start_time": "2023-10-26T04:29:36.814150800Z"
    }
   },
   "execution_count": 47,
   "outputs": [
    {
     "data": {
      "text/plain": "tensor([[0.3647, 0.4709],\n        [0.5184, 0.5617]], device='cuda:0')"
     },
     "execution_count": 47,
     "metadata": {},
     "output_type": "execute_result"
    }
   ]
  },
  {
   "cell_type": "markdown",
   "source": [
    "### 8. Find the maximum and minimum values of the output of 7."
   ],
   "metadata": {
    "id": "G7qfa5CSivwg"
   }
  },
  {
   "cell_type": "code",
   "source": [
    "# Find max\n",
    "_max = tensor_on_gpu_AB.max()\n",
    "\n",
    "# Find min\n",
    "_min = tensor_on_gpu_AB.min()\n",
    "\n",
    "_max, _min"
   ],
   "metadata": {
    "id": "Fu8_3mZpllOd",
    "ExecuteTime": {
     "end_time": "2023-10-26T04:30:20.409972300Z",
     "start_time": "2023-10-26T04:30:20.392245600Z"
    }
   },
   "execution_count": 51,
   "outputs": [
    {
     "data": {
      "text/plain": "(tensor(0.5617, device='cuda:0'), tensor(0.3647, device='cuda:0'))"
     },
     "execution_count": 51,
     "metadata": {},
     "output_type": "execute_result"
    }
   ]
  },
  {
   "cell_type": "markdown",
   "source": [
    "### 9. Find the maximum and minimum index values of the output of 7."
   ],
   "metadata": {
    "id": "wrTj5FgNiw47"
   }
  },
  {
   "cell_type": "code",
   "source": [
    "# Find arg max\n",
    "argmax = tensor_on_gpu_AB.argmax()\n",
    "\n",
    "# Find arg min\n",
    "argmin = tensor_on_gpu_AB.argmin()\n",
    "\n",
    "argmin, argmax"
   ],
   "metadata": {
    "id": "CCEKt4K2lsfQ",
    "ExecuteTime": {
     "end_time": "2023-10-26T04:30:33.405590Z",
     "start_time": "2023-10-26T04:30:33.402403400Z"
    }
   },
   "execution_count": 52,
   "outputs": [
    {
     "data": {
      "text/plain": "(tensor(0, device='cuda:0'), tensor(3, device='cuda:0'))"
     },
     "execution_count": 52,
     "metadata": {},
     "output_type": "execute_result"
    }
   ]
  },
  {
   "cell_type": "markdown",
   "source": [
    "\n",
    "### 10. Make a random tensor with shape `(1, 1, 1, 10)` and then create a new tensor with all the `1` dimensions removed to be left with a tensor of shape `(10)`. Set the seed to `7` when you create it and print out the first tensor and it's shape as well as the second tensor and it's shape.\n",
    "\n",
    "The output should look like:\n",
    "\n",
    "```\n",
    "tensor([[[[0.5349, 0.1988, 0.6592, 0.6569, 0.2328, 0.4251, 0.2071, 0.6297,\n",
    "           0.3653, 0.8513]]]]) torch.Size([1, 1, 1, 10])\n",
    "tensor([0.5349, 0.1988, 0.6592, 0.6569, 0.2328, 0.4251, 0.2071, 0.6297, 0.3653,\n",
    "        0.8513]) torch.Size([10])\n",
    "```"
   ],
   "metadata": {
    "id": "hmeybz4uixy7"
   }
  },
  {
   "cell_type": "code",
   "source": [
    "# Set seed\n",
    "torch.manual_seed(1024)\n",
    "\n",
    "# Create random tensor\n",
    "random_tensor = torch.rand(1, 1, 1, 10)\n",
    "\n",
    "# Remove single dimensions\n",
    "random_tensor_squeezed = random_tensor.squeeze()\n",
    "\n",
    "# Print out tensors and their shapes\n",
    "random_tensor, random_tensor.shape, random_tensor_squeezed, random_tensor_squeezed.shape"
   ],
   "metadata": {
    "id": "TQ9zbRzVl1jV",
    "ExecuteTime": {
     "end_time": "2023-10-26T04:29:46.631352200Z",
     "start_time": "2023-10-26T04:29:46.627995500Z"
    }
   },
   "execution_count": 50,
   "outputs": [
    {
     "data": {
      "text/plain": "(tensor([[[[0.8090, 0.7935, 0.2099, 0.9279, 0.8136, 0.7422, 0.4769, 0.4955,\n            0.3602, 0.1178]]]]),\n torch.Size([1, 1, 1, 10]),\n tensor([0.8090, 0.7935, 0.2099, 0.9279, 0.8136, 0.7422, 0.4769, 0.4955, 0.3602,\n         0.1178]),\n torch.Size([10]))"
     },
     "execution_count": 50,
     "metadata": {},
     "output_type": "execute_result"
    }
   ]
  }
 ]
}
