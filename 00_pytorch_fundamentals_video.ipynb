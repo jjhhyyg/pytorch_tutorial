{
 "nbformat": 4,
 "nbformat_minor": 0,
 "metadata": {
  "colab": {
   "provenance": [],
   "toc_visible": true,
   "authorship_tag": "ABX9TyMaIqlknYZ0G2BuUcU+RkiQ",
   "include_colab_link": true
  },
  "kernelspec": {
   "name": "python3",
   "language": "python",
   "display_name": "Python 3 (ipykernel)"
  },
  "language_info": {
   "name": "python"
  }
 },
 "cells": [
  {
   "cell_type": "markdown",
   "metadata": {
    "id": "view-in-github",
    "colab_type": "text"
   },
   "source": [
    "<a href=\"https://colab.research.google.com/github/jjhhyyg/pytorch_tutorial/blob/main/00_pytorch_fundamentals_video.ipynb\" target=\"_parent\"><img src=\"https://colab.research.google.com/assets/colab-badge.svg\" alt=\"Open In Colab\"/></a>"
   ]
  },
  {
   "cell_type": "markdown",
   "source": [
    "## PyTorch Fundamentals\n",
    "\n",
    "Resource notebook: https://www.learnpytorch.io/00_pytorch_fundamentals  \n",
    "If you have a question: https://github.com/mrdbourke/pytorch-deep-learning/discussions"
   ],
   "metadata": {
    "id": "udm0Gp15QfkH"
   }
  },
  {
   "cell_type": "code",
   "execution_count": 1,
   "metadata": {
    "colab": {
     "base_uri": "https://localhost:8080/"
    },
    "id": "9CBbK_H6OjKU",
    "outputId": "c81d7cea-87aa-46d8-e858-ab26a9636463",
    "ExecuteTime": {
     "end_time": "2023-10-26T01:51:13.397885800Z",
     "start_time": "2023-10-26T01:51:12.740192200Z"
    }
   },
   "outputs": [
    {
     "name": "stdout",
     "output_type": "stream",
     "text": [
      "Hello, I'm excited to learn PyTorch!\n"
     ]
    }
   ],
   "source": [
    "print(\"Hello, I'm excited to learn PyTorch!\")"
   ]
  },
  {
   "cell_type": "code",
   "source": [
    "!nvidia-smi"
   ],
   "metadata": {
    "colab": {
     "base_uri": "https://localhost:8080/"
    },
    "id": "RCSpa0DPPBWC",
    "outputId": "794cbf93-f8a4-438b-daf3-aee22902a043",
    "ExecuteTime": {
     "end_time": "2023-10-26T01:51:13.410644800Z",
     "start_time": "2023-10-26T01:51:12.743276400Z"
    }
   },
   "execution_count": 2,
   "outputs": [
    {
     "name": "stdout",
     "output_type": "stream",
     "text": [
      "Thu Oct 26 09:51:13 2023       \n",
      "+---------------------------------------------------------------------------------------+\n",
      "| NVIDIA-SMI 545.84                 Driver Version: 545.84       CUDA Version: 12.3     |\n",
      "|-----------------------------------------+----------------------+----------------------+\n",
      "| GPU  Name                     TCC/WDDM  | Bus-Id        Disp.A | Volatile Uncorr. ECC |\n",
      "| Fan  Temp   Perf          Pwr:Usage/Cap |         Memory-Usage | GPU-Util  Compute M. |\n",
      "|                                         |                      |               MIG M. |\n",
      "|=========================================+======================+======================|\n",
      "|   0  NVIDIA GeForce RTX 4070 Ti   WDDM  | 00000000:01:00.0  On |                  N/A |\n",
      "|  0%   34C    P8               8W / 285W |   1359MiB / 12282MiB |     35%      Default |\n",
      "|                                         |                      |                  N/A |\n",
      "+-----------------------------------------+----------------------+----------------------+\n",
      "                                                                                         \n",
      "+---------------------------------------------------------------------------------------+\n",
      "| Processes:                                                                            |\n",
      "|  GPU   GI   CI        PID   Type   Process name                            GPU Memory |\n",
      "|        ID   ID                                                             Usage      |\n",
      "|=======================================================================================|\n",
      "|    0   N/A  N/A      5664    C+G   ...5n1h2txyewy\\ShellExperienceHost.exe    N/A      |\n",
      "|    0   N/A  N/A      6232    C+G   ...CBS_cw5n1h2txyewy\\TextInputHost.exe    N/A      |\n",
      "|    0   N/A  N/A      8260    C+G   ...nt.CBS_cw5n1h2txyewy\\SearchHost.exe    N/A      |\n",
      "|    0   N/A  N/A      8664    C+G   ...on\\HEX\\Creative Cloud UI Helper.exe    N/A      |\n",
      "|    0   N/A  N/A      9180    C+G   ...ejd91yc\\AdobeNotificationClient.exe    N/A      |\n",
      "|    0   N/A  N/A     10332    C+G   C:\\Windows\\explorer.exe                   N/A      |\n",
      "|    0   N/A  N/A     10428    C+G   ...ekyb3d8bbwe\\PhoneExperienceHost.exe    N/A      |\n",
      "|    0   N/A  N/A     12264    C+G   ...t.LockApp_cw5n1h2txyewy\\LockApp.exe    N/A      |\n",
      "|    0   N/A  N/A     14536    C+G   ...tionsPlus\\logioptionsplus_agent.exe    N/A      |\n",
      "|    0   N/A  N/A     15656    C+G   ...US\\ArmouryDevice\\asus_framework.exe    N/A      |\n",
      "|    0   N/A  N/A     18832    C+G   ...les\\Microsoft OneDrive\\OneDrive.exe    N/A      |\n",
      "|    0   N/A  N/A     18880    C+G   ...0_x64__wyx1vj98g3asy\\QuickShare.exe    N/A      |\n",
      "|    0   N/A  N/A     19748    C+G   ...les\\TranslucentTB\\TranslucentTB.exe    N/A      |\n",
      "|    0   N/A  N/A     19928    C+G   ...62642.0_x64__8wekyb3d8bbwe\\Todo.exe    N/A      |\n",
      "|    0   N/A  N/A     20188    C+G   ...GeForce Experience\\NVIDIA Share.exe    N/A      |\n",
      "|    0   N/A  N/A     21136    C+G   ...werToys\\PowerToys.ColorPickerUI.exe    N/A      |\n",
      "|    0   N/A  N/A     21184    C+G   ...\\PowerToys\\PowerToys.FancyZones.exe    N/A      |\n",
      "|    0   N/A  N/A     21268    C+G   ...werToys\\PowerToys.PowerLauncher.exe    N/A      |\n",
      "|    0   N/A  N/A     25056    C+G   ...siveControlPanel\\SystemSettings.exe    N/A      |\n",
      "|    0   N/A  N/A     25068    C+G   ...1.0_x64__p7pnf6hceqser\\snipaste.exe    N/A      |\n",
      "|    0   N/A  N/A     25276    C+G   ...ecurityApp\\MicrosoftSecurityApp.exe    N/A      |\n",
      "|    0   N/A  N/A     25288    C+G   ...oogle\\Chrome\\Application\\chrome.exe    N/A      |\n",
      "|    0   N/A  N/A     26012    C+G   ...2txyewy\\StartMenuExperienceHost.exe    N/A      |\n",
      "|    0   N/A  N/A     27696    C+G   D:\\Program Files\\Tencent\\QQNT\\QQ.exe      N/A      |\n",
      "|    0   N/A  N/A     28828    C+G   ...\\cef\\cef.win7x64\\steamwebhelper.exe    N/A      |\n",
      "|    0   N/A  N/A     28908    C+G   ...7\\extracted\\runtime\\WeChatAppEx.exe    N/A      |\n",
      "+---------------------------------------------------------------------------------------+\n"
     ]
    }
   ]
  },
  {
   "cell_type": "code",
   "source": [
    "import torch\n",
    "import pandas as pd\n",
    "import numpy as np\n",
    "import matplotlib.pyplot as plt\n",
    "print(torch.__version__)"
   ],
   "metadata": {
    "id": "yy5Hq7s6PEii",
    "colab": {
     "base_uri": "https://localhost:8080/"
    },
    "outputId": "8afcabe5-5238-4dd5-d935-3d1c68fa89fe",
    "ExecuteTime": {
     "end_time": "2023-10-26T01:51:14.872905100Z",
     "start_time": "2023-10-26T01:51:13.232377300Z"
    }
   },
   "execution_count": 3,
   "outputs": [
    {
     "name": "stdout",
     "output_type": "stream",
     "text": [
      "2.1.0\n"
     ]
    }
   ]
  },
  {
   "cell_type": "markdown",
   "source": [
    "## Introduction to Tensors\n",
    "\n",
    "### Creating tensors\n",
    "\n",
    "Pytorch tensors are created using `torch.Tensor()`\n",
    "\n",
    "https://pytorch.org/docs/stable/tensors.html"
   ],
   "metadata": {
    "id": "kWglucz7eIrl"
   }
  },
  {
   "cell_type": "code",
   "source": [
    "# scalar\n",
    "\n",
    "scalar = torch.tensor(7)\n",
    "scalar"
   ],
   "metadata": {
    "colab": {
     "base_uri": "https://localhost:8080/"
    },
    "id": "IrHL1Xu7w_br",
    "outputId": "514f61ce-0265-4ac6-8368-8937baef2a26",
    "ExecuteTime": {
     "end_time": "2023-10-26T01:51:14.879245Z",
     "start_time": "2023-10-26T01:51:14.871904500Z"
    }
   },
   "execution_count": 4,
   "outputs": [
    {
     "data": {
      "text/plain": "tensor(7)"
     },
     "execution_count": 4,
     "metadata": {},
     "output_type": "execute_result"
    }
   ]
  },
  {
   "cell_type": "code",
   "source": [
    "# check the scalar's dimension\n",
    "scalar.ndim"
   ],
   "metadata": {
    "colab": {
     "base_uri": "https://localhost:8080/"
    },
    "id": "EOaOJ32t0t1w",
    "outputId": "c229f4d1-cf4f-4108-bbed-3638b1614baa",
    "ExecuteTime": {
     "end_time": "2023-10-26T01:51:14.890565400Z",
     "start_time": "2023-10-26T01:51:14.878243600Z"
    }
   },
   "execution_count": 5,
   "outputs": [
    {
     "data": {
      "text/plain": "0"
     },
     "execution_count": 5,
     "metadata": {},
     "output_type": "execute_result"
    }
   ]
  },
  {
   "cell_type": "code",
   "source": [
    "# Get tensor back as Python int\n",
    "scalar.item()"
   ],
   "metadata": {
    "colab": {
     "base_uri": "https://localhost:8080/"
    },
    "id": "6SvdFAY30772",
    "outputId": "bdc0384d-a835-41ed-f411-b792351d2bca",
    "ExecuteTime": {
     "end_time": "2023-10-26T01:51:14.899977400Z",
     "start_time": "2023-10-26T01:51:14.888707Z"
    }
   },
   "execution_count": 6,
   "outputs": [
    {
     "data": {
      "text/plain": "7"
     },
     "execution_count": 6,
     "metadata": {},
     "output_type": "execute_result"
    }
   ]
  },
  {
   "cell_type": "code",
   "source": [
    "# Vector\n",
    "vector = torch.tensor([7,7])\n",
    "vector"
   ],
   "metadata": {
    "colab": {
     "base_uri": "https://localhost:8080/"
    },
    "id": "F1gxLnNB1KyN",
    "outputId": "a205b260-b17e-483c-ae52-80e74ff332ac",
    "ExecuteTime": {
     "end_time": "2023-10-26T01:51:14.939485200Z",
     "start_time": "2023-10-26T01:51:14.891569Z"
    }
   },
   "execution_count": 7,
   "outputs": [
    {
     "data": {
      "text/plain": "tensor([7, 7])"
     },
     "execution_count": 7,
     "metadata": {},
     "output_type": "execute_result"
    }
   ]
  },
  {
   "cell_type": "code",
   "source": [
    "vector.ndim"
   ],
   "metadata": {
    "colab": {
     "base_uri": "https://localhost:8080/"
    },
    "id": "M1x4zL8e1OZq",
    "outputId": "e6081497-d039-4c88-d28d-09d0110038ad",
    "ExecuteTime": {
     "end_time": "2023-10-26T01:51:14.941488900Z",
     "start_time": "2023-10-26T01:51:14.898976700Z"
    }
   },
   "execution_count": 8,
   "outputs": [
    {
     "data": {
      "text/plain": "1"
     },
     "execution_count": 8,
     "metadata": {},
     "output_type": "execute_result"
    }
   ]
  },
  {
   "cell_type": "code",
   "source": [
    "vector.shape"
   ],
   "metadata": {
    "colab": {
     "base_uri": "https://localhost:8080/"
    },
    "id": "jUjS4Rwm1VWi",
    "outputId": "4ef18a0d-2404-448d-e578-ac7adba11fbb",
    "ExecuteTime": {
     "end_time": "2023-10-26T01:51:14.954706Z",
     "start_time": "2023-10-26T01:51:14.905629700Z"
    }
   },
   "execution_count": 9,
   "outputs": [
    {
     "data": {
      "text/plain": "torch.Size([2])"
     },
     "execution_count": 9,
     "metadata": {},
     "output_type": "execute_result"
    }
   ]
  },
  {
   "cell_type": "code",
   "source": [
    "# MATRIX\n",
    "MATRIX = torch.tensor([[7,8],\n",
    "                      [9,10],\n",
    "                      [11,12],\n",
    "                      [13,14]])\n",
    "MATRIX"
   ],
   "metadata": {
    "colab": {
     "base_uri": "https://localhost:8080/"
    },
    "id": "4nSmsXUb1ZfU",
    "outputId": "d8ed875c-0c02-49f0-de5d-96224b8f4076",
    "ExecuteTime": {
     "end_time": "2023-10-26T01:51:14.955706300Z",
     "start_time": "2023-10-26T01:51:14.912290300Z"
    }
   },
   "execution_count": 10,
   "outputs": [
    {
     "data": {
      "text/plain": "tensor([[ 7,  8],\n        [ 9, 10],\n        [11, 12],\n        [13, 14]])"
     },
     "execution_count": 10,
     "metadata": {},
     "output_type": "execute_result"
    }
   ]
  },
  {
   "cell_type": "code",
   "source": [
    "MATRIX.shape"
   ],
   "metadata": {
    "colab": {
     "base_uri": "https://localhost:8080/"
    },
    "id": "y_eYJpWy1j6D",
    "outputId": "2051225b-be5c-4210-8d29-2514fd1e2fc7",
    "ExecuteTime": {
     "end_time": "2023-10-26T01:51:14.955706300Z",
     "start_time": "2023-10-26T01:51:14.919900Z"
    }
   },
   "execution_count": 11,
   "outputs": [
    {
     "data": {
      "text/plain": "torch.Size([4, 2])"
     },
     "execution_count": 11,
     "metadata": {},
     "output_type": "execute_result"
    }
   ]
  },
  {
   "cell_type": "code",
   "source": [
    "MATRIX.ndim"
   ],
   "metadata": {
    "colab": {
     "base_uri": "https://localhost:8080/"
    },
    "id": "F5RWMatV15kY",
    "outputId": "e09c259a-4f05-420a-b6fd-6178bdc38d21",
    "ExecuteTime": {
     "end_time": "2023-10-26T01:51:14.956705800Z",
     "start_time": "2023-10-26T01:51:14.926343700Z"
    }
   },
   "execution_count": 12,
   "outputs": [
    {
     "data": {
      "text/plain": "2"
     },
     "execution_count": 12,
     "metadata": {},
     "output_type": "execute_result"
    }
   ]
  },
  {
   "cell_type": "code",
   "source": [
    "MATRIX[1]"
   ],
   "metadata": {
    "id": "XVYj-mqV2K3F",
    "outputId": "a640db6b-3d25-4f04-db58-1348a58af5fc",
    "colab": {
     "base_uri": "https://localhost:8080/"
    },
    "ExecuteTime": {
     "end_time": "2023-10-26T01:51:14.968722100Z",
     "start_time": "2023-10-26T01:51:14.933552Z"
    }
   },
   "execution_count": 13,
   "outputs": [
    {
     "data": {
      "text/plain": "tensor([ 9, 10])"
     },
     "execution_count": 13,
     "metadata": {},
     "output_type": "execute_result"
    }
   ]
  },
  {
   "cell_type": "code",
   "source": [
    "# Tensor\n",
    "TENSOR = torch.tensor([[[[1,2,3],\n",
    "                        [2,3,4],\n",
    "                        [3,4,5]]]])\n",
    "TENSOR"
   ],
   "metadata": {
    "id": "CI5koFOV2Net",
    "colab": {
     "base_uri": "https://localhost:8080/"
    },
    "outputId": "88f2a97d-bb5a-406f-f6e0-56ed73e68f91",
    "ExecuteTime": {
     "end_time": "2023-10-26T01:51:14.972721400Z",
     "start_time": "2023-10-26T01:51:14.941488900Z"
    }
   },
   "execution_count": 14,
   "outputs": [
    {
     "data": {
      "text/plain": "tensor([[[[1, 2, 3],\n          [2, 3, 4],\n          [3, 4, 5]]]])"
     },
     "execution_count": 14,
     "metadata": {},
     "output_type": "execute_result"
    }
   ]
  },
  {
   "cell_type": "code",
   "source": [
    "TENSOR.ndim, TENSOR.shape"
   ],
   "metadata": {
    "colab": {
     "base_uri": "https://localhost:8080/"
    },
    "id": "jwdI78IZ2jC2",
    "outputId": "ba8b62d9-b08f-4540-c6a8-a26d9175c412",
    "ExecuteTime": {
     "end_time": "2023-10-26T01:51:14.972721400Z",
     "start_time": "2023-10-26T01:51:14.947227800Z"
    }
   },
   "execution_count": 15,
   "outputs": [
    {
     "data": {
      "text/plain": "(4, torch.Size([1, 1, 3, 3]))"
     },
     "execution_count": 15,
     "metadata": {},
     "output_type": "execute_result"
    }
   ]
  },
  {
   "cell_type": "code",
   "source": [
    "TENSOR[0]"
   ],
   "metadata": {
    "colab": {
     "base_uri": "https://localhost:8080/"
    },
    "id": "a1CJherh2mU2",
    "outputId": "f94d35a5-324f-4f36-d813-452044ae7907",
    "ExecuteTime": {
     "end_time": "2023-10-26T01:51:15.000055300Z",
     "start_time": "2023-10-26T01:51:14.954706Z"
    }
   },
   "execution_count": 16,
   "outputs": [
    {
     "data": {
      "text/plain": "tensor([[[1, 2, 3],\n         [2, 3, 4],\n         [3, 4, 5]]])"
     },
     "execution_count": 16,
     "metadata": {},
     "output_type": "execute_result"
    }
   ]
  },
  {
   "cell_type": "code",
   "source": [
    "TENSOR[0][0]"
   ],
   "metadata": {
    "colab": {
     "base_uri": "https://localhost:8080/"
    },
    "id": "wR-C_4Kl2yIx",
    "outputId": "5a4eea1c-5860-4bb5-cd64-5d94ba3335cc",
    "ExecuteTime": {
     "end_time": "2023-10-26T01:51:15.000055300Z",
     "start_time": "2023-10-26T01:51:14.961606100Z"
    }
   },
   "execution_count": 17,
   "outputs": [
    {
     "data": {
      "text/plain": "tensor([[1, 2, 3],\n        [2, 3, 4],\n        [3, 4, 5]])"
     },
     "execution_count": 17,
     "metadata": {},
     "output_type": "execute_result"
    }
   ]
  },
  {
   "cell_type": "code",
   "source": [
    "TENSOR[0][0][1][1]"
   ],
   "metadata": {
    "colab": {
     "base_uri": "https://localhost:8080/"
    },
    "id": "o6MipeXd21Ab",
    "outputId": "5b29c474-0686-4a43-f445-e36a4ff101eb",
    "ExecuteTime": {
     "end_time": "2023-10-26T01:51:15.129603500Z",
     "start_time": "2023-10-26T01:51:14.968722100Z"
    }
   },
   "execution_count": 18,
   "outputs": [
    {
     "data": {
      "text/plain": "tensor(3)"
     },
     "execution_count": 18,
     "metadata": {},
     "output_type": "execute_result"
    }
   ]
  },
  {
   "cell_type": "markdown",
   "source": [
    "### Random tensors\n",
    "\n",
    "Why random tensors? -> Random tensors are important because the way many neural networks learn is that they start with tensors full of random nubers and then adjust those random numbers to better represent the data.\n",
    "\n",
    "`Start with random numbers -> look at data -> update random numbers -> look at data -> update random numbers`\n",
    "\n",
    "https://pytorch.org/docs/stable/generated/torch.rand.html"
   ],
   "metadata": {
    "id": "9zMjp0f7229P"
   }
  },
  {
   "cell_type": "code",
   "source": [
    "# Create a random tensor of size (3, 4)\n",
    "random_tensor = torch.rand(3,4)\n",
    "random_tensor"
   ],
   "metadata": {
    "colab": {
     "base_uri": "https://localhost:8080/"
    },
    "id": "4EmXSpz13ZgI",
    "outputId": "c23544b6-f6fb-417e-94aa-fcd05f629800",
    "ExecuteTime": {
     "end_time": "2023-10-26T01:51:15.129603500Z",
     "start_time": "2023-10-26T01:51:14.975402400Z"
    }
   },
   "execution_count": 19,
   "outputs": [
    {
     "data": {
      "text/plain": "tensor([[0.9003, 0.7488, 0.3124, 0.3789],\n        [0.2324, 0.2399, 0.4153, 0.6294],\n        [0.8205, 0.0819, 0.0888, 0.7612]])"
     },
     "execution_count": 19,
     "metadata": {},
     "output_type": "execute_result"
    }
   ]
  },
  {
   "cell_type": "code",
   "source": [
    "random_tensor.ndim"
   ],
   "metadata": {
    "id": "2vy2u8Xe4BTz",
    "colab": {
     "base_uri": "https://localhost:8080/"
    },
    "outputId": "1aa73cc5-f50c-43a7-e935-44ae83975ec1",
    "ExecuteTime": {
     "end_time": "2023-10-26T01:51:15.129603500Z",
     "start_time": "2023-10-26T01:51:14.983486600Z"
    }
   },
   "execution_count": 20,
   "outputs": [
    {
     "data": {
      "text/plain": "2"
     },
     "execution_count": 20,
     "metadata": {},
     "output_type": "execute_result"
    }
   ]
  },
  {
   "cell_type": "code",
   "source": [
    "# Create a random tensor with similar shape to an image tensor\n",
    "random_image_size_tensor = torch.rand(size=(224, 224, 3))\n",
    "random_image_size_tensor.shape, random_image_size_tensor.ndim"
   ],
   "metadata": {
    "colab": {
     "base_uri": "https://localhost:8080/"
    },
    "id": "4J9Ulf_f4965",
    "outputId": "e9ba66f7-b48e-4eff-bf2d-3fc7c8864cab",
    "ExecuteTime": {
     "end_time": "2023-10-26T01:51:15.131863200Z",
     "start_time": "2023-10-26T01:51:14.988833Z"
    }
   },
   "execution_count": 21,
   "outputs": [
    {
     "data": {
      "text/plain": "(torch.Size([224, 224, 3]), 3)"
     },
     "execution_count": 21,
     "metadata": {},
     "output_type": "execute_result"
    }
   ]
  },
  {
   "cell_type": "markdown",
   "source": [
    "**Attention!** In tensor-speak, the tensor would have three dimenstions, one for `color_channels`, `height` and `width`"
   ],
   "metadata": {
    "id": "GJrQQQFH9HuN"
   }
  },
  {
   "cell_type": "markdown",
   "source": [
    "### Zeros and ones"
   ],
   "metadata": {
    "id": "eaSJrt9f9aea"
   }
  },
  {
   "cell_type": "code",
   "source": [
    "# Create a tensor of all zeros\n",
    "zeros = torch.zeros(size=(3, 4))\n",
    "zeros"
   ],
   "metadata": {
    "colab": {
     "base_uri": "https://localhost:8080/"
    },
    "id": "NfwCycQc98Nv",
    "outputId": "135616bd-f032-463b-ebf2-6297f8bfb99a",
    "ExecuteTime": {
     "end_time": "2023-10-26T01:51:15.142064400Z",
     "start_time": "2023-10-26T01:51:14.996055200Z"
    }
   },
   "execution_count": 22,
   "outputs": [
    {
     "data": {
      "text/plain": "tensor([[0., 0., 0., 0.],\n        [0., 0., 0., 0.],\n        [0., 0., 0., 0.]])"
     },
     "execution_count": 22,
     "metadata": {},
     "output_type": "execute_result"
    }
   ]
  },
  {
   "cell_type": "code",
   "source": [
    "random_tensor * zeros"
   ],
   "metadata": {
    "colab": {
     "base_uri": "https://localhost:8080/"
    },
    "id": "fw_gSoVV-CAV",
    "outputId": "94ae5c89-d11d-4a7a-af54-a9b2986f1bde",
    "ExecuteTime": {
     "end_time": "2023-10-26T01:51:15.142064400Z",
     "start_time": "2023-10-26T01:51:15.002604200Z"
    }
   },
   "execution_count": 23,
   "outputs": [
    {
     "data": {
      "text/plain": "tensor([[0., 0., 0., 0.],\n        [0., 0., 0., 0.],\n        [0., 0., 0., 0.]])"
     },
     "execution_count": 23,
     "metadata": {},
     "output_type": "execute_result"
    }
   ]
  },
  {
   "cell_type": "code",
   "source": [
    "# Create a tensor of all ones\n",
    "ones = torch.ones(size=(3,4))\n",
    "ones"
   ],
   "metadata": {
    "colab": {
     "base_uri": "https://localhost:8080/"
    },
    "id": "gDRXJH5o-GVo",
    "outputId": "4479430a-6581-46f0-97c0-5d284b18f0a7",
    "ExecuteTime": {
     "end_time": "2023-10-26T01:51:15.143063700Z",
     "start_time": "2023-10-26T01:51:15.009013200Z"
    }
   },
   "execution_count": 24,
   "outputs": [
    {
     "data": {
      "text/plain": "tensor([[1., 1., 1., 1.],\n        [1., 1., 1., 1.],\n        [1., 1., 1., 1.]])"
     },
     "execution_count": 24,
     "metadata": {},
     "output_type": "execute_result"
    }
   ]
  },
  {
   "cell_type": "code",
   "source": [
    "random_tensor * ones"
   ],
   "metadata": {
    "colab": {
     "base_uri": "https://localhost:8080/"
    },
    "id": "XLlLSAPX-O2K",
    "outputId": "7e1f243f-4f97-44dd-c921-c2aa56ed5847",
    "ExecuteTime": {
     "end_time": "2023-10-26T01:51:15.144065Z",
     "start_time": "2023-10-26T01:51:15.016044600Z"
    }
   },
   "execution_count": 25,
   "outputs": [
    {
     "data": {
      "text/plain": "tensor([[0.9003, 0.7488, 0.3124, 0.3789],\n        [0.2324, 0.2399, 0.4153, 0.6294],\n        [0.8205, 0.0819, 0.0888, 0.7612]])"
     },
     "execution_count": 25,
     "metadata": {},
     "output_type": "execute_result"
    }
   ]
  },
  {
   "cell_type": "markdown",
   "source": [
    "### Create a range of tensors and tensors-like"
   ],
   "metadata": {
    "id": "qe7_vQu--Q0V"
   }
  },
  {
   "cell_type": "code",
   "source": [
    "# Use torch.arange()\n",
    "one_to_ten = torch.arange(0, 10)\n",
    "one_to_ten"
   ],
   "metadata": {
    "id": "xO3HlRXr-e3m",
    "colab": {
     "base_uri": "https://localhost:8080/"
    },
    "outputId": "bc1f9dc6-1c42-4a50-c875-e281a90061d6",
    "ExecuteTime": {
     "end_time": "2023-10-26T01:51:15.144065Z",
     "start_time": "2023-10-26T01:51:15.023065Z"
    }
   },
   "execution_count": 26,
   "outputs": [
    {
     "data": {
      "text/plain": "tensor([0, 1, 2, 3, 4, 5, 6, 7, 8, 9])"
     },
     "execution_count": 26,
     "metadata": {},
     "output_type": "execute_result"
    }
   ]
  },
  {
   "cell_type": "code",
   "source": [
    "torch.arange(1,1000,15) # start, end, step"
   ],
   "metadata": {
    "colab": {
     "base_uri": "https://localhost:8080/"
    },
    "id": "YULOjDbA-oV0",
    "outputId": "ad76eff4-0bd3-4d26-cf84-90252523af9d",
    "ExecuteTime": {
     "end_time": "2023-10-26T01:51:15.145916900Z",
     "start_time": "2023-10-26T01:51:15.029932700Z"
    }
   },
   "execution_count": 27,
   "outputs": [
    {
     "data": {
      "text/plain": "tensor([  1,  16,  31,  46,  61,  76,  91, 106, 121, 136, 151, 166, 181, 196,\n        211, 226, 241, 256, 271, 286, 301, 316, 331, 346, 361, 376, 391, 406,\n        421, 436, 451, 466, 481, 496, 511, 526, 541, 556, 571, 586, 601, 616,\n        631, 646, 661, 676, 691, 706, 721, 736, 751, 766, 781, 796, 811, 826,\n        841, 856, 871, 886, 901, 916, 931, 946, 961, 976, 991])"
     },
     "execution_count": 27,
     "metadata": {},
     "output_type": "execute_result"
    }
   ]
  },
  {
   "cell_type": "code",
   "source": [
    "# Creating tensors like\n",
    "one_to_ten.shape"
   ],
   "metadata": {
    "colab": {
     "base_uri": "https://localhost:8080/"
    },
    "id": "tKufr0L8_D0p",
    "outputId": "00e4c0fb-ad78-4f0c-cc5c-716f27538e93",
    "ExecuteTime": {
     "end_time": "2023-10-26T01:51:15.145916900Z",
     "start_time": "2023-10-26T01:51:15.036647900Z"
    }
   },
   "execution_count": 28,
   "outputs": [
    {
     "data": {
      "text/plain": "torch.Size([10])"
     },
     "execution_count": 28,
     "metadata": {},
     "output_type": "execute_result"
    }
   ]
  },
  {
   "cell_type": "code",
   "source": [
    "ten_zeros = torch.zeros_like(one_to_ten)\n",
    "ten_zeros"
   ],
   "metadata": {
    "id": "aS9xdy7F_MLT",
    "colab": {
     "base_uri": "https://localhost:8080/"
    },
    "outputId": "cb89584d-85b6-4b7c-c02d-3c3cef09b509",
    "ExecuteTime": {
     "end_time": "2023-10-26T01:51:15.146921400Z",
     "start_time": "2023-10-26T01:51:15.043232300Z"
    }
   },
   "execution_count": 29,
   "outputs": [
    {
     "data": {
      "text/plain": "tensor([0, 0, 0, 0, 0, 0, 0, 0, 0, 0])"
     },
     "execution_count": 29,
     "metadata": {},
     "output_type": "execute_result"
    }
   ]
  },
  {
   "cell_type": "code",
   "source": [
    "ten_ones = torch.ones_like(one_to_ten)\n",
    "ten_ones"
   ],
   "metadata": {
    "colab": {
     "base_uri": "https://localhost:8080/"
    },
    "id": "QNvX19TDANlT",
    "outputId": "43c936a4-b429-4e4d-9398-697a551393a5",
    "ExecuteTime": {
     "end_time": "2023-10-26T01:51:15.146921400Z",
     "start_time": "2023-10-26T01:51:15.051193400Z"
    }
   },
   "execution_count": 30,
   "outputs": [
    {
     "data": {
      "text/plain": "tensor([1, 1, 1, 1, 1, 1, 1, 1, 1, 1])"
     },
     "execution_count": 30,
     "metadata": {},
     "output_type": "execute_result"
    }
   ]
  },
  {
   "cell_type": "markdown",
   "source": [
    "### Tensor Datatypes\n",
    "\n",
    "https://pytorch.org/docs/stable/tensors.html\n",
    "\n",
    "**Note:** Tensor datatypes is one of the 3 big errors you'll run into with PyTorch & deep learning:\n",
    "\n",
    "1. Tensors not right datatype\n",
    "2. Tensors not right shape\n",
    "3. Tensors not on the right device"
   ],
   "metadata": {
    "id": "1gEMKY9pAXKW"
   }
  },
  {
   "cell_type": "code",
   "source": [
    "# Float 32 tensor (single precision)\n",
    "float_32_tensor = torch.tensor([3.0, 6.0, 9.0],\n",
    "                               dtype=None, # what datatype is the tensor\n",
    "                               device=None, # run on cpu or gpu\n",
    "                               requires_grad=False # whether or not to track gradients\n",
    "                               )\n",
    "float_32_tensor.dtype"
   ],
   "metadata": {
    "colab": {
     "base_uri": "https://localhost:8080/"
    },
    "id": "9qbLHcFiAisb",
    "outputId": "46e8fccc-47a1-431d-8b14-79e110cb8b78",
    "ExecuteTime": {
     "end_time": "2023-10-26T01:51:15.147920300Z",
     "start_time": "2023-10-26T01:51:15.057110400Z"
    }
   },
   "execution_count": 31,
   "outputs": [
    {
     "data": {
      "text/plain": "torch.float32"
     },
     "execution_count": 31,
     "metadata": {},
     "output_type": "execute_result"
    }
   ]
  },
  {
   "cell_type": "code",
   "source": [
    "# Float 16 tensor (half precision)\n",
    "# float_16_tensor = torch.tensor([3.0, 6.0, 9.0], dtype=torch.float16)\n",
    "float_16_tensor = float_32_tensor.type(torch.float16)\n",
    "# float_16_tensor = float_32_tensor.type(torch.half)\n",
    "float_16_tensor.dtype"
   ],
   "metadata": {
    "colab": {
     "base_uri": "https://localhost:8080/"
    },
    "id": "lVS5anXnAqb5",
    "outputId": "4d9e5a1b-6929-4825-8a31-5a3741d8b70e",
    "ExecuteTime": {
     "end_time": "2023-10-26T01:51:15.147920300Z",
     "start_time": "2023-10-26T01:51:15.065045500Z"
    }
   },
   "execution_count": 32,
   "outputs": [
    {
     "data": {
      "text/plain": "torch.float16"
     },
     "execution_count": 32,
     "metadata": {},
     "output_type": "execute_result"
    }
   ]
  },
  {
   "cell_type": "code",
   "source": [
    "# Float 64 tensor (double precision)\n",
    "float_64_tensor = torch.tensor([3.0, 6.0, 9.0], dtype=torch.float64)\n",
    "float_64_tensor.dtype"
   ],
   "metadata": {
    "colab": {
     "base_uri": "https://localhost:8080/"
    },
    "id": "cRLUhhsiCbtF",
    "outputId": "88b78869-8c24-4c3e-8368-89fb4b602e32",
    "ExecuteTime": {
     "end_time": "2023-10-26T01:51:15.148921600Z",
     "start_time": "2023-10-26T01:51:15.073245300Z"
    }
   },
   "execution_count": 33,
   "outputs": [
    {
     "data": {
      "text/plain": "torch.float64"
     },
     "execution_count": 33,
     "metadata": {},
     "output_type": "execute_result"
    }
   ]
  },
  {
   "cell_type": "code",
   "source": [
    "float_16_tensor * float_32_tensor"
   ],
   "metadata": {
    "id": "iLbo-SpHCh1k",
    "colab": {
     "base_uri": "https://localhost:8080/"
    },
    "outputId": "55074862-e172-4c9b-bcb9-a73b506996fc",
    "ExecuteTime": {
     "end_time": "2023-10-26T01:51:15.148921600Z",
     "start_time": "2023-10-26T01:51:15.079133300Z"
    }
   },
   "execution_count": 34,
   "outputs": [
    {
     "data": {
      "text/plain": "tensor([ 9., 36., 81.])"
     },
     "execution_count": 34,
     "metadata": {},
     "output_type": "execute_result"
    }
   ]
  },
  {
   "cell_type": "code",
   "source": [
    "int_32_tensor = torch.tensor([3, 6, 9], dtype=torch.int32)\n",
    "int_32_tensor"
   ],
   "metadata": {
    "colab": {
     "base_uri": "https://localhost:8080/"
    },
    "id": "XnnarGi8D4j2",
    "outputId": "124ba8be-4ff6-4205-defc-5e01845863a5",
    "ExecuteTime": {
     "end_time": "2023-10-26T01:51:15.148921600Z",
     "start_time": "2023-10-26T01:51:15.087250600Z"
    }
   },
   "execution_count": 35,
   "outputs": [
    {
     "data": {
      "text/plain": "tensor([3, 6, 9], dtype=torch.int32)"
     },
     "execution_count": 35,
     "metadata": {},
     "output_type": "execute_result"
    }
   ]
  },
  {
   "cell_type": "code",
   "source": [
    "float_32_tensor * int_32_tensor"
   ],
   "metadata": {
    "colab": {
     "base_uri": "https://localhost:8080/"
    },
    "id": "DV_PxhfwEJsm",
    "outputId": "a6af2a99-5148-4898-b105-9815bc1062c2",
    "ExecuteTime": {
     "end_time": "2023-10-26T01:51:15.148921600Z",
     "start_time": "2023-10-26T01:51:15.092560500Z"
    }
   },
   "execution_count": 36,
   "outputs": [
    {
     "data": {
      "text/plain": "tensor([ 9., 36., 81.])"
     },
     "execution_count": 36,
     "metadata": {},
     "output_type": "execute_result"
    }
   ]
  },
  {
   "cell_type": "code",
   "source": [
    "float_16_tensor * int_32_tensor"
   ],
   "metadata": {
    "colab": {
     "base_uri": "https://localhost:8080/"
    },
    "id": "UYB0w4xyENnf",
    "outputId": "23aee17c-cc9e-40f2-8516-46dc0ee937cd",
    "ExecuteTime": {
     "end_time": "2023-10-26T01:51:15.149921800Z",
     "start_time": "2023-10-26T01:51:15.099899800Z"
    }
   },
   "execution_count": 37,
   "outputs": [
    {
     "data": {
      "text/plain": "tensor([ 9., 36., 81.], dtype=torch.float16)"
     },
     "execution_count": 37,
     "metadata": {},
     "output_type": "execute_result"
    }
   ]
  },
  {
   "cell_type": "code",
   "source": [
    "long_tensor = int_32_tensor.type(torch.long)\n",
    "long_tensor"
   ],
   "metadata": {
    "colab": {
     "base_uri": "https://localhost:8080/"
    },
    "id": "B3VubaO3ERk_",
    "outputId": "baa631c5-3a3f-4a95-b60d-2594224db8ec",
    "ExecuteTime": {
     "end_time": "2023-10-26T01:51:15.149921800Z",
     "start_time": "2023-10-26T01:51:15.106138400Z"
    }
   },
   "execution_count": 38,
   "outputs": [
    {
     "data": {
      "text/plain": "tensor([3, 6, 9])"
     },
     "execution_count": 38,
     "metadata": {},
     "output_type": "execute_result"
    }
   ]
  },
  {
   "cell_type": "code",
   "source": [
    "float_32_tensor * long_tensor"
   ],
   "metadata": {
    "colab": {
     "base_uri": "https://localhost:8080/"
    },
    "id": "R6Oi_IYsEZ9k",
    "outputId": "e8707922-ddc8-4f8e-8246-0dff6620efff",
    "ExecuteTime": {
     "end_time": "2023-10-26T01:51:15.149921800Z",
     "start_time": "2023-10-26T01:51:15.113291Z"
    }
   },
   "execution_count": 39,
   "outputs": [
    {
     "data": {
      "text/plain": "tensor([ 9., 36., 81.])"
     },
     "execution_count": 39,
     "metadata": {},
     "output_type": "execute_result"
    }
   ]
  },
  {
   "cell_type": "code",
   "source": [
    "float_16_tensor * long_tensor"
   ],
   "metadata": {
    "colab": {
     "base_uri": "https://localhost:8080/"
    },
    "id": "C4JyaR8dEcup",
    "outputId": "a904e5d5-61ee-479f-9d1d-3cd055a0a55a",
    "ExecuteTime": {
     "end_time": "2023-10-26T01:51:15.149921800Z",
     "start_time": "2023-10-26T01:51:15.119602900Z"
    }
   },
   "execution_count": 40,
   "outputs": [
    {
     "data": {
      "text/plain": "tensor([ 9., 36., 81.], dtype=torch.float16)"
     },
     "execution_count": 40,
     "metadata": {},
     "output_type": "execute_result"
    }
   ]
  },
  {
   "cell_type": "markdown",
   "source": [
    "### Getting information from tensors\n",
    "\n",
    "1. Tensors not right datatype -> to do get datatype from a tensor, can use `tensor.dtype`\n",
    "2. Tensors not right shape -> to get shape from a tensor, can use `tensor.shape`\n",
    "3. Tensors not on the right device -> to get device from a tensor, canuse `tensor.device`"
   ],
   "metadata": {
    "id": "Y0MlT3uQEfQl"
   }
  },
  {
   "cell_type": "code",
   "source": [
    "# Create a tensor\n",
    "some_tensor = torch.rand(3,4)\n",
    "some_tensor"
   ],
   "metadata": {
    "colab": {
     "base_uri": "https://localhost:8080/"
    },
    "id": "R8KzyXaxE6vb",
    "outputId": "e59baeaa-15a6-4406-9017-4229faf6e191",
    "ExecuteTime": {
     "end_time": "2023-10-26T01:51:15.174241Z",
     "start_time": "2023-10-26T01:51:15.128603900Z"
    }
   },
   "execution_count": 41,
   "outputs": [
    {
     "data": {
      "text/plain": "tensor([[0.8434, 0.6868, 0.4021, 0.8999],\n        [0.1843, 0.5825, 0.8706, 0.5166],\n        [0.6520, 0.2677, 0.7371, 0.0535]])"
     },
     "execution_count": 41,
     "metadata": {},
     "output_type": "execute_result"
    }
   ]
  },
  {
   "cell_type": "code",
   "source": [
    "# Find out details\n",
    "print(f\"Datatype of tensor: {some_tensor.dtype}\")\n",
    "print(f\"Shape of tensor: {some_tensor.shape}\")\n",
    "print(f\"Device of tensor: {some_tensor.device}\")"
   ],
   "metadata": {
    "colab": {
     "base_uri": "https://localhost:8080/"
    },
    "id": "FBIO0csIFfyn",
    "outputId": "a39cd848-5515-462c-b6f8-c3d900a071a6",
    "ExecuteTime": {
     "end_time": "2023-10-26T01:51:15.174241Z",
     "start_time": "2023-10-26T01:51:15.132867300Z"
    }
   },
   "execution_count": 42,
   "outputs": [
    {
     "name": "stdout",
     "output_type": "stream",
     "text": [
      "Datatype of tensor: torch.float32\n",
      "Shape of tensor: torch.Size([3, 4])\n",
      "Device of tensor: cpu\n"
     ]
    }
   ]
  },
  {
   "cell_type": "markdown",
   "source": [
    "### Manipulating Tensors (tensor operations)\n",
    "\n",
    "Tensor operations include:\n",
    "- Addition\n",
    "- Subtraction\n",
    "- Multiplication (element-wise)\n",
    "- Division\n",
    "- Matrix multiplication"
   ],
   "metadata": {
    "id": "ZFZ-MChvFuQx"
   }
  },
  {
   "cell_type": "code",
   "source": [
    "# Create a tensor\n",
    "tensor = torch.tensor([1,2,3])\n",
    "tensor + 10"
   ],
   "metadata": {
    "colab": {
     "base_uri": "https://localhost:8080/"
    },
    "id": "jM9O6jFWHKQM",
    "outputId": "856f2146-c8b2-448d-b21e-3994f331a4a8",
    "ExecuteTime": {
     "end_time": "2023-10-26T01:51:15.211665800Z",
     "start_time": "2023-10-26T01:51:15.139064700Z"
    }
   },
   "execution_count": 43,
   "outputs": [
    {
     "data": {
      "text/plain": "tensor([11, 12, 13])"
     },
     "execution_count": 43,
     "metadata": {},
     "output_type": "execute_result"
    }
   ]
  },
  {
   "cell_type": "code",
   "source": [
    "tensor / 10"
   ],
   "metadata": {
    "colab": {
     "base_uri": "https://localhost:8080/"
    },
    "id": "YwkbgMW6HTob",
    "outputId": "8bc52657-a48d-48f2-b4a6-5fbe73434102",
    "ExecuteTime": {
     "end_time": "2023-10-26T01:51:15.263948700Z",
     "start_time": "2023-10-26T01:51:15.146921400Z"
    }
   },
   "execution_count": 44,
   "outputs": [
    {
     "data": {
      "text/plain": "tensor([0.1000, 0.2000, 0.3000])"
     },
     "execution_count": 44,
     "metadata": {},
     "output_type": "execute_result"
    }
   ]
  },
  {
   "cell_type": "code",
   "source": [
    "tensor // 10"
   ],
   "metadata": {
    "colab": {
     "base_uri": "https://localhost:8080/"
    },
    "id": "eIcMWMD5HUxF",
    "outputId": "a063ee32-14b1-47ae-c537-e7017319bd92",
    "ExecuteTime": {
     "end_time": "2023-10-26T01:51:15.528452300Z",
     "start_time": "2023-10-26T01:51:15.153431300Z"
    }
   },
   "execution_count": 45,
   "outputs": [
    {
     "data": {
      "text/plain": "tensor([0, 0, 0])"
     },
     "execution_count": 45,
     "metadata": {},
     "output_type": "execute_result"
    }
   ]
  },
  {
   "cell_type": "code",
   "source": [
    "tensor * 10"
   ],
   "metadata": {
    "colab": {
     "base_uri": "https://localhost:8080/"
    },
    "id": "pmdL9SwSHXDT",
    "outputId": "b787d052-cfe5-448a-edaf-4b4c78ee59c2",
    "ExecuteTime": {
     "end_time": "2023-10-26T01:51:15.541641300Z",
     "start_time": "2023-10-26T01:51:15.160308300Z"
    }
   },
   "execution_count": 46,
   "outputs": [
    {
     "data": {
      "text/plain": "tensor([10, 20, 30])"
     },
     "execution_count": 46,
     "metadata": {},
     "output_type": "execute_result"
    }
   ]
  },
  {
   "cell_type": "code",
   "source": [
    "torch.mul(tensor, 10)"
   ],
   "metadata": {
    "colab": {
     "base_uri": "https://localhost:8080/"
    },
    "id": "U50TmN_hHr8f",
    "outputId": "8021380d-e7a9-434a-f3a4-ab0684423206",
    "ExecuteTime": {
     "end_time": "2023-10-26T01:51:15.543641800Z",
     "start_time": "2023-10-26T01:51:15.166816900Z"
    }
   },
   "execution_count": 47,
   "outputs": [
    {
     "data": {
      "text/plain": "tensor([10, 20, 30])"
     },
     "execution_count": 47,
     "metadata": {},
     "output_type": "execute_result"
    }
   ]
  },
  {
   "cell_type": "code",
   "source": [
    "tensor * tensor"
   ],
   "metadata": {
    "colab": {
     "base_uri": "https://localhost:8080/"
    },
    "id": "O-RTClGrHY7Y",
    "outputId": "32b414ab-0403-4031-e566-8a1593b8a6b3",
    "ExecuteTime": {
     "end_time": "2023-10-26T01:51:15.557947Z",
     "start_time": "2023-10-26T01:51:15.174241Z"
    }
   },
   "execution_count": 48,
   "outputs": [
    {
     "data": {
      "text/plain": "tensor([1, 4, 9])"
     },
     "execution_count": 48,
     "metadata": {},
     "output_type": "execute_result"
    }
   ]
  },
  {
   "cell_type": "markdown",
   "source": [
    "### Matrix multiplication\n",
    "\n",
    "Two main ways:\n",
    "\n",
    "- Element-wise multiplication\n",
    "- Matrix multiplication (dot product)\n",
    "\n",
    "\n",
    "https://pytorch.org/docs/stable/generated/torch.matmul.html\n",
    "\n",
    "Two main rules performing matrix multiplication needs to satisfy:\n",
    "1. The **inner dimension** must match\n",
    "2. The resulting matrix has the shape of the **outer dimensions**"
   ],
   "metadata": {
    "id": "MKPoh11XH-9A"
   }
  },
  {
   "cell_type": "code",
   "source": [
    "tensor @ tensor.T"
   ],
   "metadata": {
    "colab": {
     "base_uri": "https://localhost:8080/"
    },
    "id": "O7Ay-FSfHdO1",
    "outputId": "28ed2ffa-64d7-4df1-c727-a9067956c946",
    "ExecuteTime": {
     "end_time": "2023-10-26T01:51:15.557947Z",
     "start_time": "2023-10-26T01:51:15.181085700Z"
    }
   },
   "execution_count": 49,
   "outputs": [
    {
     "name": "stderr",
     "output_type": "stream",
     "text": [
      "C:\\Users\\hosealle\\AppData\\Local\\Temp\\ipykernel_9696\\3375078335.py:1: UserWarning: The use of `x.T` on tensors of dimension other than 2 to reverse their shape is deprecated and it will throw an error in a future release. Consider `x.mT` to transpose batches of matrices or `x.permute(*torch.arange(x.ndim - 1, -1, -1))` to reverse the dimensions of a tensor. (Triggered internally at C:\\cb\\pytorch_1000000000000\\work\\aten\\src\\ATen\\native\\TensorShape.cpp:3618.)\n",
      "  tensor @ tensor.T\n"
     ]
    },
    {
     "data": {
      "text/plain": "tensor(14)"
     },
     "execution_count": 49,
     "metadata": {},
     "output_type": "execute_result"
    }
   ]
  },
  {
   "cell_type": "code",
   "source": [
    "torch.matmul(tensor, tensor.T)"
   ],
   "metadata": {
    "colab": {
     "base_uri": "https://localhost:8080/"
    },
    "id": "kkl6OnEfHfrC",
    "outputId": "49d13e02-2d51-4bf1-d7ce-bb5b72c97f6e",
    "ExecuteTime": {
     "end_time": "2023-10-26T01:51:15.557947Z",
     "start_time": "2023-10-26T01:51:15.188143600Z"
    }
   },
   "execution_count": 50,
   "outputs": [
    {
     "data": {
      "text/plain": "tensor(14)"
     },
     "execution_count": 50,
     "metadata": {},
     "output_type": "execute_result"
    }
   ]
  },
  {
   "cell_type": "markdown",
   "source": [
    "### One of the most common errors in deep learning: shape errors"
   ],
   "metadata": {
    "id": "-6Rf680SH3kJ"
   }
  },
  {
   "cell_type": "code",
   "source": [
    "torch.rand(3,4) @ torch.rand(4,3)"
   ],
   "metadata": {
    "colab": {
     "base_uri": "https://localhost:8080/"
    },
    "id": "fZJhrrbPRmdw",
    "outputId": "4c7a7015-763f-4daa-ded5-ec615a3d460a",
    "ExecuteTime": {
     "end_time": "2023-10-26T01:51:15.560377300Z",
     "start_time": "2023-10-26T01:51:15.194661300Z"
    }
   },
   "execution_count": 51,
   "outputs": [
    {
     "data": {
      "text/plain": "tensor([[0.5735, 1.4387, 1.2588],\n        [0.8041, 0.8309, 0.9919],\n        [0.7751, 1.4132, 1.4528]])"
     },
     "execution_count": 51,
     "metadata": {},
     "output_type": "execute_result"
    }
   ]
  },
  {
   "cell_type": "code",
   "source": [
    "tensor_A = torch.tensor([[1,2],\n",
    "                         [3,4],\n",
    "                         [5,6]])\n",
    "tensor_B = torch.tensor([[7,10],\n",
    "                         [8,11],\n",
    "                         [9,12]])\n",
    "\n",
    "tensor_B.T"
   ],
   "metadata": {
    "id": "fg2WR-JtSatW",
    "colab": {
     "base_uri": "https://localhost:8080/"
    },
    "outputId": "4c646e2e-a03b-40db-d21d-73cd3a6ae146",
    "ExecuteTime": {
     "end_time": "2023-10-26T01:51:15.560377300Z",
     "start_time": "2023-10-26T01:51:15.201799100Z"
    }
   },
   "execution_count": 52,
   "outputs": [
    {
     "data": {
      "text/plain": "tensor([[ 7,  8,  9],\n        [10, 11, 12]])"
     },
     "execution_count": 52,
     "metadata": {},
     "output_type": "execute_result"
    }
   ]
  },
  {
   "cell_type": "markdown",
   "source": [
    "A **transpose** switches the axes or dimensions of a given tensor"
   ],
   "metadata": {
    "id": "PqJ5FPxoLGg_"
   }
  },
  {
   "cell_type": "code",
   "source": [
    "torch.mm(tensor_A, tensor_B.T)"
   ],
   "metadata": {
    "colab": {
     "base_uri": "https://localhost:8080/"
    },
    "id": "mz-XSL_KLQiR",
    "outputId": "135a4eef-1089-41f3-bb9b-84a82975c430",
    "ExecuteTime": {
     "end_time": "2023-10-26T01:51:15.565887200Z",
     "start_time": "2023-10-26T01:51:15.208666300Z"
    }
   },
   "execution_count": 53,
   "outputs": [
    {
     "data": {
      "text/plain": "tensor([[ 27,  30,  33],\n        [ 61,  68,  75],\n        [ 95, 106, 117]])"
     },
     "execution_count": 53,
     "metadata": {},
     "output_type": "execute_result"
    }
   ]
  },
  {
   "cell_type": "markdown",
   "source": [
    "## Finding the min, max, mean, sum, etc (tensor aggregation)"
   ],
   "metadata": {
    "id": "OD0xp7kDKrpU"
   }
  },
  {
   "cell_type": "code",
   "source": [
    "# Create a tensor\n",
    "x = torch.arange(0, 100, 10)\n",
    "x"
   ],
   "metadata": {
    "colab": {
     "base_uri": "https://localhost:8080/"
    },
    "id": "dreYpaq3L8bO",
    "outputId": "d4c57526-4edf-440f-ef96-1f034c75ab0d",
    "ExecuteTime": {
     "end_time": "2023-10-26T01:51:15.565887200Z",
     "start_time": "2023-10-26T01:51:15.215619200Z"
    }
   },
   "execution_count": 54,
   "outputs": [
    {
     "data": {
      "text/plain": "tensor([ 0, 10, 20, 30, 40, 50, 60, 70, 80, 90])"
     },
     "execution_count": 54,
     "metadata": {},
     "output_type": "execute_result"
    }
   ]
  },
  {
   "cell_type": "code",
   "source": [
    "# Find the min\n",
    "torch.min(x), x.min()"
   ],
   "metadata": {
    "colab": {
     "base_uri": "https://localhost:8080/"
    },
    "id": "afWqWH7NMJIC",
    "outputId": "107a0ef0-d4ad-419b-e0f4-c39224b7f14f",
    "ExecuteTime": {
     "end_time": "2023-10-26T01:51:15.565887200Z",
     "start_time": "2023-10-26T01:51:15.222431900Z"
    }
   },
   "execution_count": 55,
   "outputs": [
    {
     "data": {
      "text/plain": "(tensor(0), tensor(0))"
     },
     "execution_count": 55,
     "metadata": {},
     "output_type": "execute_result"
    }
   ]
  },
  {
   "cell_type": "code",
   "source": [
    "# Find the max\n",
    "torch.max(x), x.max()"
   ],
   "metadata": {
    "colab": {
     "base_uri": "https://localhost:8080/"
    },
    "id": "yiOWIaR3ML-9",
    "outputId": "c37fbded-7ebe-4c5c-cab1-376c8519e2db",
    "ExecuteTime": {
     "end_time": "2023-10-26T01:51:15.565887200Z",
     "start_time": "2023-10-26T01:51:15.228937800Z"
    }
   },
   "execution_count": 56,
   "outputs": [
    {
     "data": {
      "text/plain": "(tensor(90), tensor(90))"
     },
     "execution_count": 56,
     "metadata": {},
     "output_type": "execute_result"
    }
   ]
  },
  {
   "cell_type": "code",
   "source": [
    "# Find the mean - note: the torch.mean() function requires a tensor of float32 dtype to work\n",
    "torch.mean(x.type(torch.float32)), x.type(torch.float32).mean()"
   ],
   "metadata": {
    "colab": {
     "base_uri": "https://localhost:8080/"
    },
    "id": "5w3uKIRuMPZZ",
    "outputId": "9b81bd63-2d9e-4f89-a85d-31638f7ed988",
    "ExecuteTime": {
     "end_time": "2023-10-26T01:51:15.567011200Z",
     "start_time": "2023-10-26T01:51:15.234888900Z"
    }
   },
   "execution_count": 57,
   "outputs": [
    {
     "data": {
      "text/plain": "(tensor(45.), tensor(45.))"
     },
     "execution_count": 57,
     "metadata": {},
     "output_type": "execute_result"
    }
   ]
  },
  {
   "cell_type": "code",
   "source": [
    "# Find the sum\n",
    "torch.sum(x), x.sum()"
   ],
   "metadata": {
    "colab": {
     "base_uri": "https://localhost:8080/"
    },
    "id": "dWWGbO73MSLt",
    "outputId": "31c8c8f1-c728-4b35-ca85-4f487a831380",
    "ExecuteTime": {
     "end_time": "2023-10-26T01:51:15.567011200Z",
     "start_time": "2023-10-26T01:51:15.242504200Z"
    }
   },
   "execution_count": 58,
   "outputs": [
    {
     "data": {
      "text/plain": "(tensor(450), tensor(450))"
     },
     "execution_count": 58,
     "metadata": {},
     "output_type": "execute_result"
    }
   ]
  },
  {
   "cell_type": "markdown",
   "source": [
    "## Finding the positional min and max"
   ],
   "metadata": {
    "id": "TPi5q9wWNR9a"
   }
  },
  {
   "cell_type": "code",
   "source": [
    "x"
   ],
   "metadata": {
    "colab": {
     "base_uri": "https://localhost:8080/"
    },
    "id": "MlVW-7NtNTnB",
    "outputId": "7426ce03-0557-4119-b20d-122404329979",
    "ExecuteTime": {
     "end_time": "2023-10-26T01:51:15.567011200Z",
     "start_time": "2023-10-26T01:51:15.248770400Z"
    }
   },
   "execution_count": 59,
   "outputs": [
    {
     "data": {
      "text/plain": "tensor([ 0, 10, 20, 30, 40, 50, 60, 70, 80, 90])"
     },
     "execution_count": 59,
     "metadata": {},
     "output_type": "execute_result"
    }
   ]
  },
  {
   "cell_type": "code",
   "source": [
    "# Find the position(index) in tensor that has the minimum value with argmin()\n",
    "x.argmin()"
   ],
   "metadata": {
    "colab": {
     "base_uri": "https://localhost:8080/"
    },
    "id": "WUZ2O6g-N0h6",
    "outputId": "93d2a866-6969-455a-f945-874c9919799b",
    "ExecuteTime": {
     "end_time": "2023-10-26T01:51:15.567513900Z",
     "start_time": "2023-10-26T01:51:15.257025600Z"
    }
   },
   "execution_count": 60,
   "outputs": [
    {
     "data": {
      "text/plain": "tensor(0)"
     },
     "execution_count": 60,
     "metadata": {},
     "output_type": "execute_result"
    }
   ]
  },
  {
   "cell_type": "code",
   "source": [
    "# Find the position(index) in tensor that has the maximum value with argmax()\n",
    "x.argmax()"
   ],
   "metadata": {
    "colab": {
     "base_uri": "https://localhost:8080/"
    },
    "id": "QsAysUveN1YV",
    "outputId": "5b49ec3c-91e8-4087-8812-b2202a971da1",
    "ExecuteTime": {
     "end_time": "2023-10-26T01:51:15.571517200Z",
     "start_time": "2023-10-26T01:51:15.263948700Z"
    }
   },
   "execution_count": 61,
   "outputs": [
    {
     "data": {
      "text/plain": "tensor(9)"
     },
     "execution_count": 61,
     "metadata": {},
     "output_type": "execute_result"
    }
   ]
  },
  {
   "cell_type": "markdown",
   "source": [
    "## Reshaping, stacking, squeezing and unsqueezing tensors\n",
    "\n",
    "- [Reshaping](https://pytorch.org/docs/stable/generated/torch.reshape.html#torch-reshape) - reshapes an input tensor to a defined shape\n",
    "- [View](https://pytorch.org/docs/stable/generated/torch.Tensor.view.html) - Return a view of an input tensor of certain shape but **keep the same memory** as the original tensor\n",
    "- [Stacking](https://pytorch.org/docs/stable/generated/torch.stack.html) - combine multiple tensors on top of each other ([vstack](https://pytorch.org/docs/stable/generated/torch.vstack.html)) or side by side ([hstack](https://pytorch.org/docs/stable/generated/torch.hstack.html))\n",
    "- [Squeeze](https://pytorch.org/docs/stable/generated/torch.squeeze.html) - removes all `1` dimensions from a tensor\n",
    "- [Unsqueeze](https://pytorch.org/docs/stable/generated/torch.unsqueeze.html) - add a `1` dimension to a tensor\n",
    "- [Permute](https://pytorch.org/docs/stable/generated/torch.permute.html) - return a view of the input with dimensions permuted (swapped) in a certain way"
   ],
   "metadata": {
    "id": "l71m_wzFN2bU"
   }
  },
  {
   "cell_type": "code",
   "source": [
    "# Create a tensor\n",
    "import torch\n",
    "x = torch.arange(1., 10.)\n",
    "x, x.shape, x.dtype"
   ],
   "metadata": {
    "colab": {
     "base_uri": "https://localhost:8080/"
    },
    "id": "qTYrMhCEG3-Q",
    "outputId": "80e61ca1-6831-40b8-e9b8-59b1e874c891",
    "ExecuteTime": {
     "end_time": "2023-10-26T01:51:15.572517600Z",
     "start_time": "2023-10-26T01:51:15.271510600Z"
    }
   },
   "execution_count": 62,
   "outputs": [
    {
     "data": {
      "text/plain": "(tensor([1., 2., 3., 4., 5., 6., 7., 8., 9.]), torch.Size([9]), torch.float32)"
     },
     "execution_count": 62,
     "metadata": {},
     "output_type": "execute_result"
    }
   ]
  },
  {
   "cell_type": "code",
   "source": [
    "# Add an extra dimension\n",
    "x_reshaped = x.reshape(1, 9)\n",
    "x_reshaped"
   ],
   "metadata": {
    "colab": {
     "base_uri": "https://localhost:8080/"
    },
    "id": "SxZUfk39Mypa",
    "outputId": "acdf8a09-476e-43ff-f769-94112ba83778",
    "ExecuteTime": {
     "end_time": "2023-10-26T01:51:15.573517700Z",
     "start_time": "2023-10-26T01:51:15.278553300Z"
    }
   },
   "execution_count": 63,
   "outputs": [
    {
     "data": {
      "text/plain": "tensor([[1., 2., 3., 4., 5., 6., 7., 8., 9.]])"
     },
     "execution_count": 63,
     "metadata": {},
     "output_type": "execute_result"
    }
   ]
  },
  {
   "cell_type": "code",
   "source": [
    "# Change the view\n",
    "z = x.view(1, 9)\n",
    "z, z.shape"
   ],
   "metadata": {
    "colab": {
     "base_uri": "https://localhost:8080/"
    },
    "id": "V36siaI_Nzjp",
    "outputId": "92ae7b66-206b-42ed-d0c5-f5a1ff6d7fc6",
    "ExecuteTime": {
     "end_time": "2023-10-26T01:51:15.573792400Z",
     "start_time": "2023-10-26T01:51:15.285390500Z"
    }
   },
   "execution_count": 64,
   "outputs": [
    {
     "data": {
      "text/plain": "(tensor([[1., 2., 3., 4., 5., 6., 7., 8., 9.]]), torch.Size([1, 9]))"
     },
     "execution_count": 64,
     "metadata": {},
     "output_type": "execute_result"
    }
   ]
  },
  {
   "cell_type": "code",
   "source": [
    "# Changing z changes x, too\n",
    "z[0][2]=11\n",
    "x"
   ],
   "metadata": {
    "colab": {
     "base_uri": "https://localhost:8080/"
    },
    "id": "LUNP-5WMRmCU",
    "outputId": "43492191-ccab-43f4-c78e-77b4b986ab54",
    "ExecuteTime": {
     "end_time": "2023-10-26T01:51:15.574296100Z",
     "start_time": "2023-10-26T01:51:15.306127400Z"
    }
   },
   "execution_count": 65,
   "outputs": [
    {
     "data": {
      "text/plain": "tensor([ 1.,  2., 11.,  4.,  5.,  6.,  7.,  8.,  9.])"
     },
     "execution_count": 65,
     "metadata": {},
     "output_type": "execute_result"
    }
   ]
  },
  {
   "cell_type": "code",
   "source": [
    "# Stack tensors on top of each other\n",
    "x_stacked = torch.stack([x, x, x_reshaped[0], x, x], dim=0)\n",
    "x_stacked"
   ],
   "metadata": {
    "colab": {
     "base_uri": "https://localhost:8080/"
    },
    "id": "mE-SN41DSECL",
    "outputId": "d504cf9f-44c7-435a-c373-d2c2e3ee7145",
    "ExecuteTime": {
     "end_time": "2023-10-26T01:51:15.574296100Z",
     "start_time": "2023-10-26T01:51:15.313252300Z"
    }
   },
   "execution_count": 66,
   "outputs": [
    {
     "data": {
      "text/plain": "tensor([[ 1.,  2., 11.,  4.,  5.,  6.,  7.,  8.,  9.],\n        [ 1.,  2., 11.,  4.,  5.,  6.,  7.,  8.,  9.],\n        [ 1.,  2., 11.,  4.,  5.,  6.,  7.,  8.,  9.],\n        [ 1.,  2., 11.,  4.,  5.,  6.,  7.,  8.,  9.],\n        [ 1.,  2., 11.,  4.,  5.,  6.,  7.,  8.,  9.]])"
     },
     "execution_count": 66,
     "metadata": {},
     "output_type": "execute_result"
    }
   ]
  },
  {
   "cell_type": "code",
   "source": [
    "x_stacked = torch.stack([x, x, x_reshaped[0], x, x], dim=1)\n",
    "x_stacked"
   ],
   "metadata": {
    "colab": {
     "base_uri": "https://localhost:8080/"
    },
    "id": "G4xYfy5FSVDM",
    "outputId": "3e88dd73-7fd9-43f3-a71d-3a9c59c256d5",
    "ExecuteTime": {
     "end_time": "2023-10-26T01:51:15.575299800Z",
     "start_time": "2023-10-26T01:51:15.319966900Z"
    }
   },
   "execution_count": 67,
   "outputs": [
    {
     "data": {
      "text/plain": "tensor([[ 1.,  1.,  1.,  1.,  1.],\n        [ 2.,  2.,  2.,  2.,  2.],\n        [11., 11., 11., 11., 11.],\n        [ 4.,  4.,  4.,  4.,  4.],\n        [ 5.,  5.,  5.,  5.,  5.],\n        [ 6.,  6.,  6.,  6.,  6.],\n        [ 7.,  7.,  7.,  7.,  7.],\n        [ 8.,  8.,  8.,  8.,  8.],\n        [ 9.,  9.,  9.,  9.,  9.]])"
     },
     "execution_count": 67,
     "metadata": {},
     "output_type": "execute_result"
    }
   ]
  },
  {
   "cell_type": "code",
   "source": [
    "x_stacked = torch.vstack([x, x, x_reshaped[0], x, x])\n",
    "x_stacked"
   ],
   "metadata": {
    "colab": {
     "base_uri": "https://localhost:8080/"
    },
    "id": "FsU-JVylUUBN",
    "outputId": "1ed10bb3-aa3e-4857-91b1-4f2711dc5e6f",
    "ExecuteTime": {
     "end_time": "2023-10-26T01:51:15.575299800Z",
     "start_time": "2023-10-26T01:51:15.327319600Z"
    }
   },
   "execution_count": 68,
   "outputs": [
    {
     "data": {
      "text/plain": "tensor([[ 1.,  2., 11.,  4.,  5.,  6.,  7.,  8.,  9.],\n        [ 1.,  2., 11.,  4.,  5.,  6.,  7.,  8.,  9.],\n        [ 1.,  2., 11.,  4.,  5.,  6.,  7.,  8.,  9.],\n        [ 1.,  2., 11.,  4.,  5.,  6.,  7.,  8.,  9.],\n        [ 1.,  2., 11.,  4.,  5.,  6.,  7.,  8.,  9.]])"
     },
     "execution_count": 68,
     "metadata": {},
     "output_type": "execute_result"
    }
   ]
  },
  {
   "cell_type": "code",
   "source": [
    "x_stacked = torch.hstack([x, x, x_reshaped[0], x, x])\n",
    "x_stacked"
   ],
   "metadata": {
    "colab": {
     "base_uri": "https://localhost:8080/"
    },
    "id": "n2dBh5KwVmfR",
    "outputId": "dd4f6db0-1bd2-4e5c-8646-13c3dbe546b5",
    "ExecuteTime": {
     "end_time": "2023-10-26T01:51:15.576301Z",
     "start_time": "2023-10-26T01:51:15.334314200Z"
    }
   },
   "execution_count": 69,
   "outputs": [
    {
     "data": {
      "text/plain": "tensor([ 1.,  2., 11.,  4.,  5.,  6.,  7.,  8.,  9.,  1.,  2., 11.,  4.,  5.,\n         6.,  7.,  8.,  9.,  1.,  2., 11.,  4.,  5.,  6.,  7.,  8.,  9.,  1.,\n         2., 11.,  4.,  5.,  6.,  7.,  8.,  9.,  1.,  2., 11.,  4.,  5.,  6.,\n         7.,  8.,  9.])"
     },
     "execution_count": 69,
     "metadata": {},
     "output_type": "execute_result"
    }
   ]
  },
  {
   "cell_type": "code",
   "source": [
    "# squeeze\n",
    "x_unsqueezed = x.view(1, 9, 1, 1)\n",
    "x_unsqueezed, x_unsqueezed.shape"
   ],
   "metadata": {
    "colab": {
     "base_uri": "https://localhost:8080/"
    },
    "id": "dcz3KHuOVq6l",
    "outputId": "55c94bca-4b9a-43fd-838d-62a5e0bb2418",
    "ExecuteTime": {
     "end_time": "2023-10-26T01:51:15.576301Z",
     "start_time": "2023-10-26T01:51:15.340874500Z"
    }
   },
   "execution_count": 70,
   "outputs": [
    {
     "data": {
      "text/plain": "(tensor([[[[ 1.]],\n \n          [[ 2.]],\n \n          [[11.]],\n \n          [[ 4.]],\n \n          [[ 5.]],\n \n          [[ 6.]],\n \n          [[ 7.]],\n \n          [[ 8.]],\n \n          [[ 9.]]]]),\n torch.Size([1, 9, 1, 1]))"
     },
     "execution_count": 70,
     "metadata": {},
     "output_type": "execute_result"
    }
   ]
  },
  {
   "cell_type": "code",
   "source": [
    "x_unsqueezed.squeeze(), x_unsqueezed.squeeze().shape"
   ],
   "metadata": {
    "colab": {
     "base_uri": "https://localhost:8080/"
    },
    "id": "gvTF_8XSbtl4",
    "outputId": "054a77e4-f327-4a23-fa17-9863034af1fa",
    "ExecuteTime": {
     "end_time": "2023-10-26T01:51:15.576301Z",
     "start_time": "2023-10-26T01:51:15.347431800Z"
    }
   },
   "execution_count": 71,
   "outputs": [
    {
     "data": {
      "text/plain": "(tensor([ 1.,  2., 11.,  4.,  5.,  6.,  7.,  8.,  9.]), torch.Size([9]))"
     },
     "execution_count": 71,
     "metadata": {},
     "output_type": "execute_result"
    }
   ]
  },
  {
   "cell_type": "code",
   "source": [
    "# unsqueeze\n",
    "x_unsqueezed.squeeze().unsqueeze(dim=0), x_unsqueezed.squeeze().unsqueeze(dim=0).shape"
   ],
   "metadata": {
    "colab": {
     "base_uri": "https://localhost:8080/"
    },
    "id": "fui38BsybxDg",
    "outputId": "cca4747c-6b55-44f8-b217-654ddbefbd69",
    "ExecuteTime": {
     "end_time": "2023-10-26T01:51:15.582500300Z",
     "start_time": "2023-10-26T01:51:15.354066900Z"
    }
   },
   "execution_count": 72,
   "outputs": [
    {
     "data": {
      "text/plain": "(tensor([[ 1.,  2., 11.,  4.,  5.,  6.,  7.,  8.,  9.]]), torch.Size([1, 9]))"
     },
     "execution_count": 72,
     "metadata": {},
     "output_type": "execute_result"
    }
   ]
  },
  {
   "cell_type": "code",
   "source": [
    "x_unsqueezed.squeeze().unsqueeze(dim=-1), x_unsqueezed.squeeze().unsqueeze(dim=-1).shape"
   ],
   "metadata": {
    "colab": {
     "base_uri": "https://localhost:8080/"
    },
    "id": "J4t2Jb9HeQbC",
    "outputId": "3e998839-1889-45f4-e5db-91b9e30343c4",
    "ExecuteTime": {
     "end_time": "2023-10-26T01:51:15.582500300Z",
     "start_time": "2023-10-26T01:51:15.360969300Z"
    }
   },
   "execution_count": 73,
   "outputs": [
    {
     "data": {
      "text/plain": "(tensor([[ 1.],\n         [ 2.],\n         [11.],\n         [ 4.],\n         [ 5.],\n         [ 6.],\n         [ 7.],\n         [ 8.],\n         [ 9.]]),\n torch.Size([9, 1]))"
     },
     "execution_count": 73,
     "metadata": {},
     "output_type": "execute_result"
    }
   ]
  },
  {
   "cell_type": "code",
   "source": [
    "x_unsqueezed.squeeze().unsqueeze(dim=1), x_unsqueezed.squeeze().unsqueeze(dim=1).shape"
   ],
   "metadata": {
    "colab": {
     "base_uri": "https://localhost:8080/"
    },
    "id": "7ztvgM0YcDs4",
    "outputId": "411676b0-4035-4b55-8c24-01fd4401d783",
    "ExecuteTime": {
     "end_time": "2023-10-26T01:51:15.583500200Z",
     "start_time": "2023-10-26T01:51:15.367524100Z"
    }
   },
   "execution_count": 74,
   "outputs": [
    {
     "data": {
      "text/plain": "(tensor([[ 1.],\n         [ 2.],\n         [11.],\n         [ 4.],\n         [ 5.],\n         [ 6.],\n         [ 7.],\n         [ 8.],\n         [ 9.]]),\n torch.Size([9, 1]))"
     },
     "execution_count": 74,
     "metadata": {},
     "output_type": "execute_result"
    }
   ]
  },
  {
   "cell_type": "code",
   "source": [
    "# torch.permute - rearranges the dimensions of a target tensor in a specified order\n",
    "x = torch.rand(2, 3, 5)\n",
    "x.size()"
   ],
   "metadata": {
    "colab": {
     "base_uri": "https://localhost:8080/"
    },
    "id": "H9xy3yZxcHTR",
    "outputId": "e9d67ffc-22f8-4179-badc-452d89b4d8d3",
    "ExecuteTime": {
     "end_time": "2023-10-26T01:51:15.583500200Z",
     "start_time": "2023-10-26T01:51:15.374578400Z"
    }
   },
   "execution_count": 75,
   "outputs": [
    {
     "data": {
      "text/plain": "torch.Size([2, 3, 5])"
     },
     "execution_count": 75,
     "metadata": {},
     "output_type": "execute_result"
    }
   ]
  },
  {
   "cell_type": "code",
   "source": [
    "x"
   ],
   "metadata": {
    "colab": {
     "base_uri": "https://localhost:8080/"
    },
    "id": "Jb-Gt6Xoe4eT",
    "outputId": "97dea466-3218-408e-9233-9dbd39968b71",
    "ExecuteTime": {
     "end_time": "2023-10-26T01:51:15.585500200Z",
     "start_time": "2023-10-26T01:51:15.383975900Z"
    }
   },
   "execution_count": 76,
   "outputs": [
    {
     "data": {
      "text/plain": "tensor([[[4.8071e-02, 1.1144e-01, 8.8990e-02, 6.7373e-01, 9.7525e-02],\n         [1.9698e-02, 6.4767e-02, 5.9156e-01, 5.5708e-01, 1.3473e-01],\n         [2.3822e-01, 3.9047e-01, 1.1578e-01, 9.0164e-01, 4.7533e-01]],\n\n        [[6.8197e-01, 8.4723e-01, 5.6932e-01, 7.0456e-01, 1.2205e-01],\n         [8.8236e-01, 8.4622e-01, 3.3459e-01, 6.4923e-01, 3.3069e-04],\n         [1.8430e-01, 1.9238e-02, 1.8098e-01, 1.8334e-01, 6.1325e-01]]])"
     },
     "execution_count": 76,
     "metadata": {},
     "output_type": "execute_result"
    }
   ]
  },
  {
   "cell_type": "code",
   "source": [
    "torch.permute(x, (2,0,1)).size()"
   ],
   "metadata": {
    "colab": {
     "base_uri": "https://localhost:8080/"
    },
    "id": "Tpl0QlG3fFm0",
    "outputId": "66197404-c5cf-4aa9-9023-989636c4a266",
    "ExecuteTime": {
     "end_time": "2023-10-26T01:51:15.585500200Z",
     "start_time": "2023-10-26T01:51:15.390787700Z"
    }
   },
   "execution_count": 77,
   "outputs": [
    {
     "data": {
      "text/plain": "torch.Size([5, 2, 3])"
     },
     "execution_count": 77,
     "metadata": {},
     "output_type": "execute_result"
    }
   ]
  },
  {
   "cell_type": "code",
   "source": [
    "fake_img = torch.randn(224, 224, 3)\n",
    "fake_img_permuted = fake_img.permute(2,0,1)\n",
    "fake_img_permuted.shape"
   ],
   "metadata": {
    "colab": {
     "base_uri": "https://localhost:8080/"
    },
    "id": "mJSIZOtkfOip",
    "outputId": "9fb46dc8-a1e9-440b-e567-16ca4300532d",
    "ExecuteTime": {
     "end_time": "2023-10-26T01:51:15.585500200Z",
     "start_time": "2023-10-26T01:51:15.397443800Z"
    }
   },
   "execution_count": 78,
   "outputs": [
    {
     "data": {
      "text/plain": "torch.Size([3, 224, 224])"
     },
     "execution_count": 78,
     "metadata": {},
     "output_type": "execute_result"
    }
   ]
  },
  {
   "cell_type": "code",
   "source": [
    "import matplotlib.pyplot as plt\n",
    "\n",
    "image_data = fake_img.numpy()\n",
    "plt.imshow(image_data)\n",
    "plt.axis('off')\n",
    "plt.show()"
   ],
   "metadata": {
    "colab": {
     "base_uri": "https://localhost:8080/",
     "height": 443
    },
    "id": "LJoRJvRufaub",
    "outputId": "be6f63cf-d123-4421-f256-edba63c3d1ad",
    "ExecuteTime": {
     "end_time": "2023-10-26T01:51:15.591631700Z",
     "start_time": "2023-10-26T01:51:15.405002600Z"
    }
   },
   "execution_count": 79,
   "outputs": [
    {
     "name": "stderr",
     "output_type": "stream",
     "text": [
      "Clipping input data to the valid range for imshow with RGB data ([0..1] for floats or [0..255] for integers).\n"
     ]
    },
    {
     "data": {
      "text/plain": "<Figure size 640x480 with 1 Axes>",
      "image/png": "[encoded data removed]"
     },
     "metadata": {},
     "output_type": "display_data"
    }
   ]
  },
  {
   "cell_type": "code",
   "source": [
    "# Change permuted tensor also change the original one\n",
    "\n",
    "fake_img[0][0][0] = 3\n",
    "fake_img_permuted[0][0][0]"
   ],
   "metadata": {
    "colab": {
     "base_uri": "https://localhost:8080/"
    },
    "id": "DM31VBhHgzqG",
    "outputId": "2453d62b-9683-4413-ee24-53733d349ee3",
    "ExecuteTime": {
     "end_time": "2023-10-26T01:51:15.591631700Z",
     "start_time": "2023-10-26T01:51:15.491914600Z"
    }
   },
   "execution_count": 80,
   "outputs": [
    {
     "data": {
      "text/plain": "tensor(3.)"
     },
     "execution_count": 80,
     "metadata": {},
     "output_type": "execute_result"
    }
   ]
  },
  {
   "cell_type": "markdown",
   "source": [
    "## Indexing (selecting data from tensors)\n",
    "\n",
    "Indexing with PyTorch is similar to indexing with numpy."
   ],
   "metadata": {
    "id": "ivlvJldRjJt0"
   }
  },
  {
   "cell_type": "code",
   "source": [
    "x = torch.arange(1, 10).reshape(1, 3, 3)\n",
    "x, x.shape"
   ],
   "metadata": {
    "colab": {
     "base_uri": "https://localhost:8080/"
    },
    "id": "OlBBZDJxjh__",
    "outputId": "67697ccb-113d-4260-f233-99c222c77780",
    "ExecuteTime": {
     "end_time": "2023-10-26T01:51:15.592631300Z",
     "start_time": "2023-10-26T01:51:15.493458900Z"
    }
   },
   "execution_count": 81,
   "outputs": [
    {
     "data": {
      "text/plain": "(tensor([[[1, 2, 3],\n          [4, 5, 6],\n          [7, 8, 9]]]),\n torch.Size([1, 3, 3]))"
     },
     "execution_count": 81,
     "metadata": {},
     "output_type": "execute_result"
    }
   ]
  },
  {
   "cell_type": "code",
   "source": [
    "x[0]"
   ],
   "metadata": {
    "colab": {
     "base_uri": "https://localhost:8080/"
    },
    "id": "R9gfLfPjjn0Y",
    "outputId": "1eac36f8-8437-48ec-b0c3-6ef24fc74ba2",
    "ExecuteTime": {
     "end_time": "2023-10-26T01:51:15.592631300Z",
     "start_time": "2023-10-26T01:51:15.500126900Z"
    }
   },
   "execution_count": 82,
   "outputs": [
    {
     "data": {
      "text/plain": "tensor([[1, 2, 3],\n        [4, 5, 6],\n        [7, 8, 9]])"
     },
     "execution_count": 82,
     "metadata": {},
     "output_type": "execute_result"
    }
   ]
  },
  {
   "cell_type": "code",
   "source": [
    "x[0][0], x[0][1], x[0][2]"
   ],
   "metadata": {
    "colab": {
     "base_uri": "https://localhost:8080/"
    },
    "id": "N68MqRX9j8iu",
    "outputId": "68787737-cada-456d-d758-3779e7a3d13d",
    "ExecuteTime": {
     "end_time": "2023-10-26T01:51:15.902847800Z",
     "start_time": "2023-10-26T01:51:15.506696200Z"
    }
   },
   "execution_count": 83,
   "outputs": [
    {
     "data": {
      "text/plain": "(tensor([1, 2, 3]), tensor([4, 5, 6]), tensor([7, 8, 9]))"
     },
     "execution_count": 83,
     "metadata": {},
     "output_type": "execute_result"
    }
   ]
  },
  {
   "cell_type": "code",
   "source": [
    "x[0][0][0], x[0][1][1]"
   ],
   "metadata": {
    "colab": {
     "base_uri": "https://localhost:8080/"
    },
    "id": "1gPAqJTMj-Mb",
    "outputId": "91161b0e-6df0-4355-9842-7ba8b27c415b",
    "ExecuteTime": {
     "end_time": "2023-10-26T01:51:15.903848800Z",
     "start_time": "2023-10-26T01:51:15.513569300Z"
    }
   },
   "execution_count": 84,
   "outputs": [
    {
     "data": {
      "text/plain": "(tensor(1), tensor(5))"
     },
     "execution_count": 84,
     "metadata": {},
     "output_type": "execute_result"
    }
   ]
  },
  {
   "cell_type": "code",
   "source": [
    "x[0, :, 1]"
   ],
   "metadata": {
    "colab": {
     "base_uri": "https://localhost:8080/"
    },
    "id": "VEjFBZ4okVCA",
    "outputId": "aa7d0dfb-0e6f-400f-9070-1cf8b0ab6d29",
    "ExecuteTime": {
     "end_time": "2023-10-26T01:51:15.903848800Z",
     "start_time": "2023-10-26T01:51:15.520294500Z"
    }
   },
   "execution_count": 85,
   "outputs": [
    {
     "data": {
      "text/plain": "tensor([2, 5, 8])"
     },
     "execution_count": 85,
     "metadata": {},
     "output_type": "execute_result"
    }
   ]
  },
  {
   "cell_type": "code",
   "source": [
    "x[:, 0:2, 1:3]"
   ],
   "metadata": {
    "colab": {
     "base_uri": "https://localhost:8080/"
    },
    "id": "VWwoQM9ykwII",
    "outputId": "c4e923fa-bcc9-46ad-9c1c-ce9f401071a8",
    "ExecuteTime": {
     "end_time": "2023-10-26T01:51:15.927852700Z",
     "start_time": "2023-10-26T01:51:15.527448800Z"
    }
   },
   "execution_count": 86,
   "outputs": [
    {
     "data": {
      "text/plain": "tensor([[[2, 3],\n         [5, 6]]])"
     },
     "execution_count": 86,
     "metadata": {},
     "output_type": "execute_result"
    }
   ]
  },
  {
   "cell_type": "code",
   "source": [
    "x[:, 1, 1:3]"
   ],
   "metadata": {
    "colab": {
     "base_uri": "https://localhost:8080/"
    },
    "id": "vhdlyHXElSLg",
    "outputId": "6c0f8cd6-5383-4e05-c67c-b1be9526f543",
    "ExecuteTime": {
     "end_time": "2023-10-26T01:51:15.927852700Z",
     "start_time": "2023-10-26T01:51:15.533894700Z"
    }
   },
   "execution_count": 87,
   "outputs": [
    {
     "data": {
      "text/plain": "tensor([[5, 6]])"
     },
     "execution_count": 87,
     "metadata": {},
     "output_type": "execute_result"
    }
   ]
  },
  {
   "cell_type": "code",
   "source": [
    "x[0, :, 0]"
   ],
   "metadata": {
    "colab": {
     "base_uri": "https://localhost:8080/"
    },
    "id": "VNBvJRe8lvSO",
    "outputId": "eaf7fdd0-5e83-4d05-ea7d-ec4ef3962ade",
    "ExecuteTime": {
     "end_time": "2023-10-26T01:51:15.943929700Z",
     "start_time": "2023-10-26T01:51:15.540641400Z"
    }
   },
   "execution_count": 88,
   "outputs": [
    {
     "data": {
      "text/plain": "tensor([1, 4, 7])"
     },
     "execution_count": 88,
     "metadata": {},
     "output_type": "execute_result"
    }
   ]
  },
  {
   "cell_type": "markdown",
   "source": [
    "## PyTorch tensors & NumPy\n",
    "\n",
    "- `torch.from_numpy(ndarray)`\n",
    "- `torch.Tensor.numpy()`"
   ],
   "metadata": {
    "id": "66eLeaHjmlZR"
   }
  },
  {
   "cell_type": "code",
   "source": [
    "import torch\n",
    "import numpy as np"
   ],
   "metadata": {
    "id": "Kp-Pu9rShiRr",
    "ExecuteTime": {
     "end_time": "2023-10-26T01:51:15.943929700Z",
     "start_time": "2023-10-26T01:51:15.547228700Z"
    }
   },
   "execution_count": 89,
   "outputs": []
  },
  {
   "cell_type": "markdown",
   "source": [
    "Note: the default data type of a tensor **from a ndarry** is **torch.float64**"
   ],
   "metadata": {
    "id": "29z4DYqNh2ms"
   }
  },
  {
   "cell_type": "code",
   "source": [
    "array = np.arange(1.0, 8.0)\n",
    "tensor = torch.from_numpy(array)\n",
    "array, tensor"
   ],
   "metadata": {
    "colab": {
     "base_uri": "https://localhost:8080/"
    },
    "id": "quHh2QiOhuWv",
    "outputId": "d198edbc-e5fb-49b7-80a2-acd7b0fa99ff",
    "ExecuteTime": {
     "end_time": "2023-10-26T01:51:15.965929800Z",
     "start_time": "2023-10-26T01:51:15.552945800Z"
    }
   },
   "execution_count": 90,
   "outputs": [
    {
     "data": {
      "text/plain": "(array([1., 2., 3., 4., 5., 6., 7.]),\n tensor([1., 2., 3., 4., 5., 6., 7.], dtype=torch.float64))"
     },
     "execution_count": 90,
     "metadata": {},
     "output_type": "execute_result"
    }
   ]
  },
  {
   "cell_type": "markdown",
   "source": [
    "Note: changing the array self **doesn't change** the tensor! (But **before asigning array to another variable**, changing the element in the array **changes** the tensor)"
   ],
   "metadata": {
    "id": "hL06fVNxixFO"
   }
  },
  {
   "cell_type": "code",
   "source": [
    "array[0] = 3\n",
    "array, tensor"
   ],
   "metadata": {
    "colab": {
     "base_uri": "https://localhost:8080/"
    },
    "id": "VKmum6xGjgBA",
    "outputId": "b551c6bc-3644-4265-e471-e437a3dd9d83",
    "ExecuteTime": {
     "end_time": "2023-10-26T01:51:16.006586900Z",
     "start_time": "2023-10-26T01:51:15.561885700Z"
    }
   },
   "execution_count": 91,
   "outputs": [
    {
     "data": {
      "text/plain": "(array([3., 2., 3., 4., 5., 6., 7.]),\n tensor([3., 2., 3., 4., 5., 6., 7.], dtype=torch.float64))"
     },
     "execution_count": 91,
     "metadata": {},
     "output_type": "execute_result"
    }
   ]
  },
  {
   "cell_type": "code",
   "source": [
    "array = array + 1\n",
    "array, tensor"
   ],
   "metadata": {
    "colab": {
     "base_uri": "https://localhost:8080/"
    },
    "id": "OzLQ59qMh0Le",
    "outputId": "1c7d6307-5dc1-4e4f-c708-b79146a2b979",
    "ExecuteTime": {
     "end_time": "2023-10-26T01:51:16.032096800Z",
     "start_time": "2023-10-26T01:51:15.568518300Z"
    }
   },
   "execution_count": 92,
   "outputs": [
    {
     "data": {
      "text/plain": "(array([4., 3., 4., 5., 6., 7., 8.]),\n tensor([3., 2., 3., 4., 5., 6., 7.], dtype=torch.float64))"
     },
     "execution_count": 92,
     "metadata": {},
     "output_type": "execute_result"
    }
   ]
  },
  {
   "cell_type": "markdown",
   "source": [
    "Note: the default data type of a numpy from a tensor is float32"
   ],
   "metadata": {
    "id": "ycorw4lxjxW5"
   }
  },
  {
   "cell_type": "code",
   "source": [
    "# Tensor to NumPy array\n",
    "tensor = torch.ones(7)\n",
    "numpy_tensor = tensor.numpy()\n",
    "tensor, numpy_tensor"
   ],
   "metadata": {
    "colab": {
     "base_uri": "https://localhost:8080/"
    },
    "id": "--Dr5AaviuZz",
    "outputId": "f7a4b724-21ff-4205-c2a7-a2bd31d139e7",
    "ExecuteTime": {
     "end_time": "2023-10-26T01:51:16.051095700Z",
     "start_time": "2023-10-26T01:51:15.575299800Z"
    }
   },
   "execution_count": 93,
   "outputs": [
    {
     "data": {
      "text/plain": "(tensor([1., 1., 1., 1., 1., 1., 1.]),\n array([1., 1., 1., 1., 1., 1., 1.], dtype=float32))"
     },
     "execution_count": 93,
     "metadata": {},
     "output_type": "execute_result"
    }
   ]
  },
  {
   "cell_type": "code",
   "source": [
    "tensor[0] = 4\n",
    "tensor, numpy_tensor"
   ],
   "metadata": {
    "colab": {
     "base_uri": "https://localhost:8080/"
    },
    "id": "-1IjsJ46jroY",
    "outputId": "c0f825ec-8185-4b5c-e580-05f4d6d5686c",
    "ExecuteTime": {
     "end_time": "2023-10-26T01:51:16.080095900Z",
     "start_time": "2023-10-26T01:51:15.582500300Z"
    }
   },
   "execution_count": 94,
   "outputs": [
    {
     "data": {
      "text/plain": "(tensor([4., 1., 1., 1., 1., 1., 1.]),\n array([4., 1., 1., 1., 1., 1., 1.], dtype=float32))"
     },
     "execution_count": 94,
     "metadata": {},
     "output_type": "execute_result"
    }
   ]
  },
  {
   "cell_type": "markdown",
   "source": [
    "There's a tricky situation I've just found:\n",
    "\n",
    "- `tensor += 1` doesn't cut the bound off between tensor and numpy_tensor\n",
    "- `tensor = tensor + 1` make tensor and numpy_tensor two independent variable"
   ],
   "metadata": {
    "id": "xbiS8N-CkHvq"
   }
  },
  {
   "cell_type": "code",
   "source": [
    "tensor = tensor + 1\n",
    "tensor, numpy_tensor"
   ],
   "metadata": {
    "colab": {
     "base_uri": "https://localhost:8080/"
    },
    "id": "TPV1M89Jj-BW",
    "outputId": "36699eb3-89fc-444a-ce29-c55897fdc18e",
    "ExecuteTime": {
     "end_time": "2023-10-26T01:51:16.099148500Z",
     "start_time": "2023-10-26T01:51:15.589631700Z"
    }
   },
   "execution_count": 95,
   "outputs": [
    {
     "data": {
      "text/plain": "(tensor([5., 2., 2., 2., 2., 2., 2.]),\n array([4., 1., 1., 1., 1., 1., 1.], dtype=float32))"
     },
     "execution_count": 95,
     "metadata": {},
     "output_type": "execute_result"
    }
   ]
  },
  {
   "cell_type": "markdown",
   "source": [
    "## Reproducibility (trying to take random out of random)\n",
    "\n",
    "`start with random numbers -> tensor operations -> update random numbers to try and\n",
    "make them better representations of the data -> again -> again -> again ...`\n",
    "\n",
    "To reduce the randomness in neural networks and PyTorch comes the concept of a\n",
    "**random seed**.\n",
    "\n",
    "Essentially what the random seed does is \"flavour\" the randomness.\n",
    "\n",
    "Extra [resources](https://pytorch.org/docs/stable/notes/randomness.html)"
   ],
   "metadata": {
    "id": "o7v1KZytkAzk"
   }
  },
  {
   "cell_type": "code",
   "source": [
    "import torch\n",
    "\n",
    "random_tensor_A = torch.rand(3, 4)\n",
    "random_tensor_B = torch.rand(3, 4)\n",
    "\n",
    "random_tensor_A == random_tensor_B"
   ],
   "metadata": {
    "colab": {
     "base_uri": "https://localhost:8080/"
    },
    "id": "3_X_PdqzktQs",
    "outputId": "bb0fa064-9f3a-4f0a-c425-d98a71b13b85",
    "ExecuteTime": {
     "end_time": "2023-10-26T01:51:16.121162Z",
     "start_time": "2023-10-26T01:51:15.596397200Z"
    }
   },
   "execution_count": 96,
   "outputs": [
    {
     "data": {
      "text/plain": "tensor([[False, False, False, False],\n        [False, False, False, False],\n        [False, False, False, False]])"
     },
     "execution_count": 96,
     "metadata": {},
     "output_type": "execute_result"
    }
   ]
  },
  {
   "cell_type": "markdown",
   "source": [
    "Note: torch.manual_seed() only affects **a block of code**"
   ],
   "metadata": {
    "collapsed": false
   }
  },
  {
   "cell_type": "code",
   "execution_count": 136,
   "outputs": [
    {
     "data": {
      "text/plain": "(tensor([[0.8823, 0.9150, 0.3829, 0.9593],\n         [0.3904, 0.6009, 0.2566, 0.7936],\n         [0.9408, 0.1332, 0.9346, 0.5936]]),\n tensor([[0.8823, 0.9150, 0.3829, 0.9593],\n         [0.3904, 0.6009, 0.2566, 0.7936],\n         [0.9408, 0.1332, 0.9346, 0.5936]]),\n tensor([[True, True, True, True],\n         [True, True, True, True],\n         [True, True, True, True]]),\n tensor([[0.8694, 0.5677, 0.7411, 0.4294],\n         [0.8854, 0.5739, 0.2666, 0.6274],\n         [0.2696, 0.4414, 0.2969, 0.8317]]))"
     },
     "execution_count": 136,
     "metadata": {},
     "output_type": "execute_result"
    }
   ],
   "source": [
    "RANDOM_SEED = 42\n",
    "\n",
    "torch.manual_seed(RANDOM_SEED)\n",
    "random_tensor_C = torch.rand(3, 4)\n",
    "torch.manual_seed(RANDOM_SEED)\n",
    "random_tensor_D = torch.rand(3, 4)\n",
    "random_tensor_E = torch.rand(3, 4)\n",
    "\n",
    "random_tensor_C, random_tensor_D, random_tensor_C == random_tensor_D, random_tensor_E"
   ],
   "metadata": {
    "collapsed": false,
    "ExecuteTime": {
     "end_time": "2023-10-26T04:06:47.911606500Z",
     "start_time": "2023-10-26T04:06:47.873076Z"
    }
   }
  },
  {
   "cell_type": "markdown",
   "source": [
    "## Running tensors and PyTorch objects on the GPUS"
   ],
   "metadata": {
    "collapsed": false
   }
  },
  {
   "cell_type": "markdown",
   "source": [
    "### 1. Check for GPU access with PyTorch"
   ],
   "metadata": {
    "collapsed": false
   }
  },
  {
   "cell_type": "code",
   "execution_count": 103,
   "outputs": [
    {
     "data": {
      "text/plain": "True"
     },
     "execution_count": 103,
     "metadata": {},
     "output_type": "execute_result"
    }
   ],
   "source": [
    "import torch \n",
    "\n",
    "torch.cuda.is_available()"
   ],
   "metadata": {
    "collapsed": false,
    "ExecuteTime": {
     "end_time": "2023-10-26T02:58:58.330589900Z",
     "start_time": "2023-10-26T02:58:58.288110Z"
    }
   }
  },
  {
   "cell_type": "markdown",
   "source": [
    "https://pytorch.org/docs/stable/notes/cuda.html#best-practices"
   ],
   "metadata": {
    "collapsed": false
   }
  },
  {
   "cell_type": "code",
   "execution_count": 105,
   "outputs": [
    {
     "data": {
      "text/plain": "'cuda'"
     },
     "execution_count": 105,
     "metadata": {},
     "output_type": "execute_result"
    }
   ],
   "source": [
    "# Setup device agnostic code\n",
    "device = \"cuda\" if torch.cuda.is_available() else \"cpu\"\n",
    "device"
   ],
   "metadata": {
    "collapsed": false,
    "ExecuteTime": {
     "end_time": "2023-10-26T02:59:47.926614300Z",
     "start_time": "2023-10-26T02:59:47.913256700Z"
    }
   }
  },
  {
   "cell_type": "code",
   "execution_count": 106,
   "outputs": [
    {
     "data": {
      "text/plain": "1"
     },
     "execution_count": 106,
     "metadata": {},
     "output_type": "execute_result"
    }
   ],
   "source": [
    "# Count number of devices\n",
    "torch.cuda.device_count()"
   ],
   "metadata": {
    "collapsed": false,
    "ExecuteTime": {
     "end_time": "2023-10-26T03:00:01.294828600Z",
     "start_time": "2023-10-26T03:00:01.247914300Z"
    }
   }
  },
  {
   "cell_type": "markdown",
   "source": [
    "## 2. Putting tensors (and models) on the GPU"
   ],
   "metadata": {
    "collapsed": false
   }
  },
  {
   "cell_type": "code",
   "execution_count": 110,
   "outputs": [
    {
     "data": {
      "text/plain": "(tensor([1, 2, 3]), device(type='cpu'))"
     },
     "execution_count": 110,
     "metadata": {},
     "output_type": "execute_result"
    }
   ],
   "source": [
    "tensor = torch.tensor([1,2,3])\n",
    "tensor, tensor.device"
   ],
   "metadata": {
    "collapsed": false,
    "ExecuteTime": {
     "end_time": "2023-10-26T03:50:54.855287600Z",
     "start_time": "2023-10-26T03:50:54.809031900Z"
    }
   }
  },
  {
   "cell_type": "code",
   "execution_count": 113,
   "outputs": [
    {
     "data": {
      "text/plain": "tensor([1, 2, 3], device='cuda:0')"
     },
     "execution_count": 113,
     "metadata": {},
     "output_type": "execute_result"
    }
   ],
   "source": [
    "# Move tensor to GPU (if available)\n",
    "tensor_on_gpu = tensor.to(device)\n",
    "tensor_on_gpu"
   ],
   "metadata": {
    "collapsed": false,
    "ExecuteTime": {
     "end_time": "2023-10-26T03:51:43.725301700Z",
     "start_time": "2023-10-26T03:51:43.685802800Z"
    }
   }
  },
  {
   "cell_type": "markdown",
   "source": [
    "### 3. Moving tensors back to the CPU"
   ],
   "metadata": {
    "collapsed": false
   }
  },
  {
   "cell_type": "code",
   "execution_count": 115,
   "outputs": [
    {
     "ename": "TypeError",
     "evalue": "can't convert cuda:0 device type tensor to numpy. Use Tensor.cpu() to copy the tensor to host memory first.",
     "output_type": "error",
     "traceback": [
      "\u001B[1;31m---------------------------------------------------------------------------\u001B[0m",
      "\u001B[1;31mTypeError\u001B[0m                                 Traceback (most recent call last)",
      "Cell \u001B[1;32mIn[115], line 2\u001B[0m\n\u001B[0;32m      1\u001B[0m \u001B[38;5;66;03m# If tensor is on GPU, can't transform it to NumPy\u001B[39;00m\n\u001B[1;32m----> 2\u001B[0m tensor_on_gpu\u001B[38;5;241m.\u001B[39mnumpy()\n",
      "\u001B[1;31mTypeError\u001B[0m: can't convert cuda:0 device type tensor to numpy. Use Tensor.cpu() to copy the tensor to host memory first."
     ]
    }
   ],
   "source": [
    "# If tensor is on GPU, can't transform it to NumPy\n",
    "tensor_on_gpu.numpy()"
   ],
   "metadata": {
    "collapsed": false,
    "ExecuteTime": {
     "end_time": "2023-10-26T03:52:41.886416400Z",
     "start_time": "2023-10-26T03:52:41.635168900Z"
    }
   }
  },
  {
   "cell_type": "code",
   "execution_count": 117,
   "outputs": [
    {
     "data": {
      "text/plain": "array([1, 2, 3], dtype=int64)"
     },
     "execution_count": 117,
     "metadata": {},
     "output_type": "execute_result"
    }
   ],
   "source": [
    "tensor_back_on_cpu = tensor_on_gpu.cpu().numpy()\n",
    "tensor_back_on_cpu"
   ],
   "metadata": {
    "collapsed": false,
    "ExecuteTime": {
     "end_time": "2023-10-26T03:53:13.323027200Z",
     "start_time": "2023-10-26T03:53:13.283674100Z"
    }
   }
  },
  {
   "cell_type": "markdown",
   "source": [
    "## Exercises & Extra-curriculum\n",
    "\n",
    "https://www.learnpytorch.io/00_pytorch_fundamentals/#exercises"
   ],
   "metadata": {
    "collapsed": false
   }
  }
 ]
}
